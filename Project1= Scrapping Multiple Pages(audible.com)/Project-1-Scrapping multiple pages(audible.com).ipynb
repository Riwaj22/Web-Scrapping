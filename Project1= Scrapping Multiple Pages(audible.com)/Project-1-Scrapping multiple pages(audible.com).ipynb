{
 "cells": [
  {
   "cell_type": "markdown",
   "id": "5f0e5276",
   "metadata": {},
   "source": [
    "Building the bot"
   ]
  },
  {
   "cell_type": "code",
   "execution_count": 64,
   "id": "2ef4ad0e",
   "metadata": {},
   "outputs": [],
   "source": [
    "from selenium import webdriver"
   ]
  },
  {
   "cell_type": "code",
   "execution_count": 65,
   "id": "944feeea",
   "metadata": {},
   "outputs": [],
   "source": [
    "from selenium.webdriver.chrome.options import Options\n",
    "options = Options()"
   ]
  },
  {
   "cell_type": "code",
   "execution_count": 66,
   "id": "1ce5fefc",
   "metadata": {},
   "outputs": [],
   "source": [
    "options.headless = True\n"
   ]
  },
  {
   "cell_type": "code",
   "execution_count": 67,
   "id": "a60284f9",
   "metadata": {},
   "outputs": [],
   "source": [
    "web = 'https://www.audible.com/search'"
   ]
  },
  {
   "cell_type": "code",
   "execution_count": 68,
   "id": "9350f5cc",
   "metadata": {},
   "outputs": [],
   "source": [
    "\n",
    "path = r\"C:\\Users\\97798\\Desktop\\chromedriver_win32\\chromedriver.exe\""
   ]
  },
  {
   "cell_type": "code",
   "execution_count": 69,
   "id": "91a67f82",
   "metadata": {},
   "outputs": [
    {
     "name": "stderr",
     "output_type": "stream",
     "text": [
      "C:\\Users\\97798\\AppData\\Local\\Temp\\ipykernel_724\\1140990078.py:1: DeprecationWarning: executable_path has been deprecated, please pass in a Service object\n",
      "  driver= webdriver.Chrome(path)\n"
     ]
    }
   ],
   "source": [
    "driver= webdriver.Chrome(path)"
   ]
  },
  {
   "cell_type": "code",
   "execution_count": 70,
   "id": "d1a51532",
   "metadata": {},
   "outputs": [],
   "source": [
    "driver.get(web)"
   ]
  },
  {
   "cell_type": "code",
   "execution_count": 53,
   "id": "9c36770a",
   "metadata": {},
   "outputs": [],
   "source": [
    "driver.maximize_window()"
   ]
  },
  {
   "cell_type": "code",
   "execution_count": 54,
   "id": "497db943",
   "metadata": {},
   "outputs": [
    {
     "name": "stderr",
     "output_type": "stream",
     "text": [
      "C:\\Users\\97798\\AppData\\Local\\Temp\\ipykernel_724\\548648342.py:1: DeprecationWarning: find_elements_by_xpath is deprecated. Please use find_elements(by=By.XPATH, value=xpath) instead\n",
      "  book_titles = driver.find_elements_by_xpath('//h3[contains(@class, \"bc-heading\")]')\n"
     ]
    },
    {
     "name": "stdout",
     "output_type": "stream",
     "text": [
      "Book Titles:\n",
      "['', '', '', '', 'Warrior Fae', 'Choose Your Enemies', 'The Ritual', 'Reckless', 'The Puppeteers', 'Holy Spirit: The Bondage Breaker', 'The Shift', 'Workbook for Designing, Implementing, and Evaluating a Sharps Injury Prevention Program', 'The Gift', 'Data Research Algorithms About Outlier Detection', 'FFFHAMS', 'The Complete Poppy War Trilogy', 'Battleborne Book IV: Dungeon Master', 'Shift Point', 'Campaign Marketing Strategy Analysis of a New Product Launch in Czech', 'Aster Fall', 'Sweet Regret', 'Love, Theoretically', 'Forbidden Hearts']\n"
     ]
    },
    {
     "name": "stderr",
     "output_type": "stream",
     "text": [
      "C:\\Users\\97798\\AppData\\Local\\Temp\\ipykernel_724\\548648342.py:7: DeprecationWarning: find_elements_by_xpath is deprecated. Please use find_elements(by=By.XPATH, value=xpath) instead\n",
      "  author_names = driver.find_elements_by_xpath('//li[contains(@class, \"authorLabel\")]')\n"
     ]
    },
    {
     "name": "stdout",
     "output_type": "stream",
     "text": [
      "\n",
      "Author Names:\n",
      "['By: Caroline Peckham, Susanne Valenti', 'By: Sandy Mitchell', 'By: Shantel Tessier', 'By: Elsie Silver', 'By: Jason Chaffetz', 'By: David Diga Hernandez', 'By: Tinx', 'By: Jeremiah Gutierrez', 'By: Sebastian Fitzek', 'By: Kory Costello', 'By: Eloheem Ali', 'By: R. F. Kuang', 'By: Dave Willmarth', 'By: Franklin Horton', 'By: Kasondra Urmetz', 'By: David North', 'By: K. Bromberg', 'By: Ali Hazelwood', 'By: Corinne Michaels']\n"
     ]
    },
    {
     "name": "stderr",
     "output_type": "stream",
     "text": [
      "C:\\Users\\97798\\AppData\\Local\\Temp\\ipykernel_724\\548648342.py:13: DeprecationWarning: find_elements_by_xpath is deprecated. Please use find_elements(by=By.XPATH, value=xpath) instead\n",
      "  runtimes = driver.find_elements_by_xpath('//li[contains(@class, \"runtimeLabel\")]')\n"
     ]
    },
    {
     "name": "stdout",
     "output_type": "stream",
     "text": [
      "\n",
      "Runtimes:\n",
      "['Length: 29 hrs and 37 mins', 'Length: 10 hrs and 4 mins', 'Length: 16 hrs and 46 mins', 'Length: 9 hrs and 58 mins', 'Length: 8 hrs and 49 mins', 'Length: 8 hrs and 40 mins', 'Length: 5 hrs and 17 mins', 'Length: 2 hrs and 14 mins', 'Length: 7 hrs and 8 mins', 'Length: 3 hrs and 33 mins', 'Length: 9 hrs and 34 mins', 'Length: 66 hrs and 29 mins', 'Length: 15 hrs and 28 mins', 'Length: 10 hrs and 16 mins', 'Length: 1 hr and 24 mins', 'Length: 20 hrs and 22 mins', 'Length: 9 hrs and 24 mins', 'Length: 12 hrs and 33 mins', 'Length: 9 hrs and 23 mins']\n"
     ]
    }
   ],
   "source": [
    "book_titles = driver.find_elements_by_xpath('//h3[contains(@class, \"bc-heading\")]')\n",
    "book_titles_text = [title.text.strip() for title in book_titles]\n",
    "print(\"Book Titles:\")\n",
    "print(book_titles_text)\n",
    "\n",
    "# Find all author names using XPath\n",
    "author_names = driver.find_elements_by_xpath('//li[contains(@class, \"authorLabel\")]')\n",
    "author_names_text = [author.text.strip() for author in author_names]\n",
    "print(\"\\nAuthor Names:\")\n",
    "print(author_names_text)\n",
    "\n",
    "# Find all runtimes using XPath\n",
    "runtimes = driver.find_elements_by_xpath('//li[contains(@class, \"runtimeLabel\")]')\n",
    "runtimes_text = [runtime.text.strip() for runtime in runtimes]\n",
    "print(\"\\nRuntimes:\")\n",
    "print(runtimes_text)\n",
    "\n",
    "# Close the browser\n",
    "driver.quit()"
   ]
  },
  {
   "cell_type": "markdown",
   "id": "63d2938d",
   "metadata": {},
   "source": [
    "All in a single dataframe"
   ]
  },
  {
   "cell_type": "code",
   "execution_count": 59,
   "id": "d8865101",
   "metadata": {},
   "outputs": [],
   "source": [
    "import pandas as pd\n",
    "\n",
    "data = {\n",
    "    \"Book Title\": book_titles_text,\n",
    "    \"Author Name\": author_names_text,\n",
    "    \"Runtime\": runtimes_text\n",
    "}\n",
    "df = pd.DataFrame(data)"
   ]
  },
  {
   "cell_type": "code",
   "execution_count": 58,
   "id": "f3c78cb2",
   "metadata": {},
   "outputs": [],
   "source": [
    "book_titles_text = book_titles_text[4:]"
   ]
  },
  {
   "cell_type": "code",
   "execution_count": 60,
   "id": "88f31c1e",
   "metadata": {},
   "outputs": [],
   "source": [
    "df['Author Name'] = df['Author Name'].str.replace('By: ','')"
   ]
  },
  {
   "cell_type": "code",
   "execution_count": 61,
   "id": "e7531e52",
   "metadata": {},
   "outputs": [],
   "source": [
    "df.Runtime= df.Runtime.str.replace('Length: ', '')"
   ]
  },
  {
   "cell_type": "code",
   "execution_count": 62,
   "id": "c2957e95",
   "metadata": {},
   "outputs": [
    {
     "data": {
      "text/html": [
       "<div>\n",
       "<style scoped>\n",
       "    .dataframe tbody tr th:only-of-type {\n",
       "        vertical-align: middle;\n",
       "    }\n",
       "\n",
       "    .dataframe tbody tr th {\n",
       "        vertical-align: top;\n",
       "    }\n",
       "\n",
       "    .dataframe thead th {\n",
       "        text-align: right;\n",
       "    }\n",
       "</style>\n",
       "<table border=\"1\" class=\"dataframe\">\n",
       "  <thead>\n",
       "    <tr style=\"text-align: right;\">\n",
       "      <th></th>\n",
       "      <th>Book Title</th>\n",
       "      <th>Author Name</th>\n",
       "      <th>Runtime</th>\n",
       "    </tr>\n",
       "  </thead>\n",
       "  <tbody>\n",
       "    <tr>\n",
       "      <th>0</th>\n",
       "      <td>Warrior Fae</td>\n",
       "      <td>Caroline Peckham, Susanne Valenti</td>\n",
       "      <td>29 hrs and 37 mins</td>\n",
       "    </tr>\n",
       "    <tr>\n",
       "      <th>1</th>\n",
       "      <td>Choose Your Enemies</td>\n",
       "      <td>Sandy Mitchell</td>\n",
       "      <td>10 hrs and 4 mins</td>\n",
       "    </tr>\n",
       "    <tr>\n",
       "      <th>2</th>\n",
       "      <td>The Ritual</td>\n",
       "      <td>Shantel Tessier</td>\n",
       "      <td>16 hrs and 46 mins</td>\n",
       "    </tr>\n",
       "    <tr>\n",
       "      <th>3</th>\n",
       "      <td>Reckless</td>\n",
       "      <td>Elsie Silver</td>\n",
       "      <td>9 hrs and 58 mins</td>\n",
       "    </tr>\n",
       "    <tr>\n",
       "      <th>4</th>\n",
       "      <td>The Puppeteers</td>\n",
       "      <td>Jason Chaffetz</td>\n",
       "      <td>8 hrs and 49 mins</td>\n",
       "    </tr>\n",
       "    <tr>\n",
       "      <th>5</th>\n",
       "      <td>Holy Spirit: The Bondage Breaker</td>\n",
       "      <td>David Diga Hernandez</td>\n",
       "      <td>8 hrs and 40 mins</td>\n",
       "    </tr>\n",
       "    <tr>\n",
       "      <th>6</th>\n",
       "      <td>The Shift</td>\n",
       "      <td>Tinx</td>\n",
       "      <td>5 hrs and 17 mins</td>\n",
       "    </tr>\n",
       "    <tr>\n",
       "      <th>7</th>\n",
       "      <td>Workbook for Designing, Implementing, and Eval...</td>\n",
       "      <td>Jeremiah Gutierrez</td>\n",
       "      <td>2 hrs and 14 mins</td>\n",
       "    </tr>\n",
       "    <tr>\n",
       "      <th>8</th>\n",
       "      <td>The Gift</td>\n",
       "      <td>Sebastian Fitzek</td>\n",
       "      <td>7 hrs and 8 mins</td>\n",
       "    </tr>\n",
       "    <tr>\n",
       "      <th>9</th>\n",
       "      <td>Data Research Algorithms About Outlier Detection</td>\n",
       "      <td>Kory Costello</td>\n",
       "      <td>3 hrs and 33 mins</td>\n",
       "    </tr>\n",
       "    <tr>\n",
       "      <th>10</th>\n",
       "      <td>FFFHAMS</td>\n",
       "      <td>Eloheem Ali</td>\n",
       "      <td>9 hrs and 34 mins</td>\n",
       "    </tr>\n",
       "    <tr>\n",
       "      <th>11</th>\n",
       "      <td>The Complete Poppy War Trilogy</td>\n",
       "      <td>R. F. Kuang</td>\n",
       "      <td>66 hrs and 29 mins</td>\n",
       "    </tr>\n",
       "    <tr>\n",
       "      <th>12</th>\n",
       "      <td>Battleborne Book IV: Dungeon Master</td>\n",
       "      <td>Dave Willmarth</td>\n",
       "      <td>15 hrs and 28 mins</td>\n",
       "    </tr>\n",
       "    <tr>\n",
       "      <th>13</th>\n",
       "      <td>Shift Point</td>\n",
       "      <td>Franklin Horton</td>\n",
       "      <td>10 hrs and 16 mins</td>\n",
       "    </tr>\n",
       "    <tr>\n",
       "      <th>14</th>\n",
       "      <td>Campaign Marketing Strategy Analysis of a New ...</td>\n",
       "      <td>Kasondra Urmetz</td>\n",
       "      <td>1 hr and 24 mins</td>\n",
       "    </tr>\n",
       "    <tr>\n",
       "      <th>15</th>\n",
       "      <td>Aster Fall</td>\n",
       "      <td>David North</td>\n",
       "      <td>20 hrs and 22 mins</td>\n",
       "    </tr>\n",
       "    <tr>\n",
       "      <th>16</th>\n",
       "      <td>Sweet Regret</td>\n",
       "      <td>K. Bromberg</td>\n",
       "      <td>9 hrs and 24 mins</td>\n",
       "    </tr>\n",
       "    <tr>\n",
       "      <th>17</th>\n",
       "      <td>Love, Theoretically</td>\n",
       "      <td>Ali Hazelwood</td>\n",
       "      <td>12 hrs and 33 mins</td>\n",
       "    </tr>\n",
       "    <tr>\n",
       "      <th>18</th>\n",
       "      <td>Forbidden Hearts</td>\n",
       "      <td>Corinne Michaels</td>\n",
       "      <td>9 hrs and 23 mins</td>\n",
       "    </tr>\n",
       "  </tbody>\n",
       "</table>\n",
       "</div>"
      ],
      "text/plain": [
       "                                           Book Title  \\\n",
       "0                                         Warrior Fae   \n",
       "1                                 Choose Your Enemies   \n",
       "2                                          The Ritual   \n",
       "3                                            Reckless   \n",
       "4                                      The Puppeteers   \n",
       "5                    Holy Spirit: The Bondage Breaker   \n",
       "6                                           The Shift   \n",
       "7   Workbook for Designing, Implementing, and Eval...   \n",
       "8                                            The Gift   \n",
       "9    Data Research Algorithms About Outlier Detection   \n",
       "10                                            FFFHAMS   \n",
       "11                     The Complete Poppy War Trilogy   \n",
       "12                Battleborne Book IV: Dungeon Master   \n",
       "13                                        Shift Point   \n",
       "14  Campaign Marketing Strategy Analysis of a New ...   \n",
       "15                                         Aster Fall   \n",
       "16                                       Sweet Regret   \n",
       "17                                Love, Theoretically   \n",
       "18                                   Forbidden Hearts   \n",
       "\n",
       "                          Author Name             Runtime  \n",
       "0   Caroline Peckham, Susanne Valenti  29 hrs and 37 mins  \n",
       "1                      Sandy Mitchell   10 hrs and 4 mins  \n",
       "2                     Shantel Tessier  16 hrs and 46 mins  \n",
       "3                        Elsie Silver   9 hrs and 58 mins  \n",
       "4                      Jason Chaffetz   8 hrs and 49 mins  \n",
       "5                David Diga Hernandez   8 hrs and 40 mins  \n",
       "6                                Tinx   5 hrs and 17 mins  \n",
       "7                  Jeremiah Gutierrez   2 hrs and 14 mins  \n",
       "8                    Sebastian Fitzek    7 hrs and 8 mins  \n",
       "9                       Kory Costello   3 hrs and 33 mins  \n",
       "10                        Eloheem Ali   9 hrs and 34 mins  \n",
       "11                        R. F. Kuang  66 hrs and 29 mins  \n",
       "12                     Dave Willmarth  15 hrs and 28 mins  \n",
       "13                    Franklin Horton  10 hrs and 16 mins  \n",
       "14                    Kasondra Urmetz    1 hr and 24 mins  \n",
       "15                        David North  20 hrs and 22 mins  \n",
       "16                        K. Bromberg   9 hrs and 24 mins  \n",
       "17                      Ali Hazelwood  12 hrs and 33 mins  \n",
       "18                   Corinne Michaels   9 hrs and 23 mins  "
      ]
     },
     "execution_count": 62,
     "metadata": {},
     "output_type": "execute_result"
    }
   ],
   "source": [
    "df"
   ]
  },
  {
   "cell_type": "code",
   "execution_count": 46,
   "id": "3061ff1d",
   "metadata": {},
   "outputs": [],
   "source": [
    "df.to_csv('books.csv', index = False)"
   ]
  },
  {
   "cell_type": "markdown",
   "id": "eed6175a",
   "metadata": {},
   "source": [
    "Pagination\n"
   ]
  },
  {
   "cell_type": "code",
   "execution_count": 79,
   "id": "4fa36183",
   "metadata": {},
   "outputs": [
    {
     "name": "stderr",
     "output_type": "stream",
     "text": [
      "C:\\Users\\97798\\AppData\\Local\\Temp\\ipykernel_724\\3013290091.py:1: DeprecationWarning: find_element_by_xpath is deprecated. Please use find_element(by=By.XPATH, value=xpath) instead\n",
      "  pagination = driver.find_element_by_xpath('//ul[contains(@class, \"pagingElements\")]')\n"
     ]
    }
   ],
   "source": [
    "pagination = driver.find_element_by_xpath('//ul[contains(@class, \"pagingElements\")]')"
   ]
  },
  {
   "cell_type": "code",
   "execution_count": 97,
   "id": "a56c2c33",
   "metadata": {},
   "outputs": [
    {
     "name": "stderr",
     "output_type": "stream",
     "text": [
      "C:\\Users\\97798\\AppData\\Local\\Temp\\ipykernel_724\\2629170716.py:1: DeprecationWarning: find_elements_by_tag_name is deprecated. Please use find_elements(by=By.TAG_NAME, value=name) instead\n",
      "  pages = pagination.find_elements_by_tag_name('li')\n"
     ]
    }
   ],
   "source": [
    "pages = pagination.find_elements_by_tag_name('li')"
   ]
  },
  {
   "cell_type": "code",
   "execution_count": 98,
   "id": "3544bba6",
   "metadata": {},
   "outputs": [],
   "source": [
    "last_page = int(pages[-2].text)\n"
   ]
  },
  {
   "cell_type": "code",
   "execution_count": 99,
   "id": "de97dc2d",
   "metadata": {},
   "outputs": [
    {
     "data": {
      "text/plain": [
       "25"
      ]
     },
     "execution_count": 99,
     "metadata": {},
     "output_type": "execute_result"
    }
   ],
   "source": [
    "last_page"
   ]
  },
  {
   "cell_type": "code",
   "execution_count": 126,
   "id": "2c9b36a6",
   "metadata": {},
   "outputs": [
    {
     "name": "stderr",
     "output_type": "stream",
     "text": [
      "C:\\Users\\97798\\AppData\\Local\\Temp\\ipykernel_724\\3287259218.py:6: DeprecationWarning: executable_path has been deprecated, please pass in a Service object\n",
      "  driver = webdriver.Chrome(path)\n",
      "C:\\Users\\97798\\AppData\\Local\\Temp\\ipykernel_724\\3287259218.py:18: DeprecationWarning: find_element_by_xpath is deprecated. Please use find_element(by=By.XPATH, value=xpath) instead\n",
      "  pagination = driver.find_element_by_xpath('//ul[contains(@class, \"pagingElements\")]')\n",
      "C:\\Users\\97798\\AppData\\Local\\Temp\\ipykernel_724\\3287259218.py:19: DeprecationWarning: find_elements_by_tag_name is deprecated. Please use find_elements(by=By.TAG_NAME, value=name) instead\n",
      "  pages = pagination.find_elements_by_tag_name('li')\n",
      "C:\\Users\\97798\\AppData\\Local\\Temp\\ipykernel_724\\3287259218.py:28: DeprecationWarning: find_elements_by_xpath is deprecated. Please use find_elements(by=By.XPATH, value=xpath) instead\n",
      "  titles = driver.find_elements_by_xpath('//h3[contains(@class, \"bc-heading\")]')\n"
     ]
    },
    {
     "name": "stdout",
     "output_type": "stream",
     "text": [
      "Scraping Page 1...\n"
     ]
    },
    {
     "name": "stderr",
     "output_type": "stream",
     "text": [
      "C:\\Users\\97798\\AppData\\Local\\Temp\\ipykernel_724\\3287259218.py:32: DeprecationWarning: find_elements_by_xpath is deprecated. Please use find_elements(by=By.XPATH, value=xpath) instead\n",
      "  authors = driver.find_elements_by_xpath('//li[contains(@class, \"authorLabel\")]')\n",
      "C:\\Users\\97798\\AppData\\Local\\Temp\\ipykernel_724\\3287259218.py:36: DeprecationWarning: find_elements_by_xpath is deprecated. Please use find_elements(by=By.XPATH, value=xpath) instead\n",
      "  runtimes_elements = driver.find_elements_by_xpath('//li[contains(@class, \"runtimeLabel\")]')\n",
      "C:\\Users\\97798\\AppData\\Local\\Temp\\ipykernel_724\\3287259218.py:40: DeprecationWarning: find_element_by_xpath is deprecated. Please use find_element(by=By.XPATH, value=xpath) instead\n",
      "  next_page = driver.find_element_by_xpath('//span[contains(@class, \"nextButton\")]')\n"
     ]
    },
    {
     "name": "stdout",
     "output_type": "stream",
     "text": [
      "Scraping Page 2...\n",
      "Scraping Page 3...\n",
      "Scraping Page 4...\n",
      "Scraping Page 5...\n",
      "Scraping Page 6...\n",
      "Scraping Page 7...\n",
      "Scraping Page 8...\n",
      "Scraping Page 9...\n",
      "Scraping Page 10...\n",
      "Scraping Page 11...\n",
      "Scraping Page 12...\n",
      "Scraping Page 13...\n",
      "Scraping Page 14...\n",
      "Scraping Page 15...\n",
      "Scraping Page 16...\n",
      "Scraping Page 17...\n",
      "Scraping Page 18...\n",
      "Scraping Page 19...\n",
      "Scraping Page 20...\n",
      "Scraping Page 21...\n",
      "Scraping Page 22...\n",
      "Scraping Page 23...\n",
      "Scraping Page 24...\n",
      "Scraping Page 25...\n"
     ]
    }
   ],
   "source": [
    "from selenium import webdriver\n",
    "import time\n",
    "import pandas as pd\n",
    "\n",
    "# Start the Selenium WebDriver (ensure you have the appropriate driver executable in your PATH)\n",
    "driver = webdriver.Chrome(path)\n",
    "\n",
    "# Navigate to the Audible search page\n",
    "url = \"https://www.audible.com/search\"\n",
    "driver.get(url)\n",
    "\n",
    "# Initialize empty lists for book titles, author names, and runtimes\n",
    "book_titles = []\n",
    "author_names = []\n",
    "runtimes = []\n",
    "\n",
    "# Get the maximum number of pages to scrape\n",
    "pagination = driver.find_element_by_xpath('//ul[contains(@class, \"pagingElements\")]')\n",
    "pages = pagination.find_elements_by_tag_name('li')\n",
    "last_page = int(pages[-2].text)\n",
    "\n",
    "# Loop through the pages\n",
    "current_page = 1\n",
    "while current_page <= last_page:\n",
    "    print(f\"Scraping Page {current_page}...\")\n",
    "    \n",
    "    # Find all book titles using XPath\n",
    "    titles = driver.find_elements_by_xpath('//h3[contains(@class, \"bc-heading\")]')\n",
    "    book_titles.extend([title.text.strip() for title in titles])\n",
    "\n",
    "    # Find all author names using XPath\n",
    "    authors = driver.find_elements_by_xpath('//li[contains(@class, \"authorLabel\")]')\n",
    "    author_names.extend([author.text.strip() for author in authors])\n",
    "\n",
    "    # Find all runtimes using XPath\n",
    "    runtimes_elements = driver.find_elements_by_xpath('//li[contains(@class, \"runtimeLabel\")]')\n",
    "    runtimes.extend([runtime.text.strip() for runtime in runtimes_elements])\n",
    "\n",
    "    # Check if there is a next page\n",
    "    next_page = driver.find_element_by_xpath('//span[contains(@class, \"nextButton\")]')\n",
    "    if \"disabled\" in next_page.get_attribute(\"class\"):\n",
    "        break  # Exit the loop if there is no next page\n",
    "\n",
    "    # Click the next page button\n",
    "    next_page.click()\n",
    "\n",
    "    # Add a delay to allow the page to load before scraping the next page\n",
    "    time.sleep(2)\n",
    "\n",
    "    # Increment the current page counter\n",
    "    current_page += 1\n",
    "\n",
    "# Create a dataframe\n",
    "data = {\n",
    "    \"Book Title\": book_titles,\n",
    "    \"Author Name\": author_names,\n",
    "    \"Runtime\": runtimes\n",
    "}\n"
   ]
  },
  {
   "cell_type": "code",
   "execution_count": 133,
   "id": "d99eaa36",
   "metadata": {},
   "outputs": [],
   "source": [
    "books = pd.DataFrame(data['Book Title'])"
   ]
  },
  {
   "cell_type": "code",
   "execution_count": 145,
   "id": "d9d1f2c0",
   "metadata": {},
   "outputs": [],
   "source": [
    "book_titles_cleaned = [title for title in data['Book Title'] if title.strip()]\n"
   ]
  },
  {
   "cell_type": "code",
   "execution_count": 147,
   "id": "24f63793",
   "metadata": {},
   "outputs": [
    {
     "data": {
      "text/plain": [
       "499"
      ]
     },
     "execution_count": 147,
     "metadata": {},
     "output_type": "execute_result"
    }
   ],
   "source": [
    "len(book_titles_cleaned)"
   ]
  },
  {
   "cell_type": "code",
   "execution_count": 148,
   "id": "ac7e8721",
   "metadata": {},
   "outputs": [],
   "source": [
    "data = {\n",
    "    \"Book Title\": book_titles_cleaned,\n",
    "    \"Author Name\": author_names,\n",
    "    \"Runtime\": runtimes\n",
    "}"
   ]
  },
  {
   "cell_type": "code",
   "execution_count": 153,
   "id": "0e61e463",
   "metadata": {},
   "outputs": [
    {
     "data": {
      "text/plain": [
       "499"
      ]
     },
     "execution_count": 153,
     "metadata": {},
     "output_type": "execute_result"
    }
   ],
   "source": [
    "len(data['Runtime'])"
   ]
  },
  {
   "cell_type": "code",
   "execution_count": 155,
   "id": "d4e56884",
   "metadata": {},
   "outputs": [],
   "source": [
    "books = pd.DataFrame(data)"
   ]
  },
  {
   "cell_type": "code",
   "execution_count": 158,
   "id": "9ce550ab",
   "metadata": {},
   "outputs": [],
   "source": [
    "books['Author Name'] = books['Author Name'].str.replace('By: ', '')"
   ]
  },
  {
   "cell_type": "code",
   "execution_count": 160,
   "id": "fb8b6640",
   "metadata": {},
   "outputs": [],
   "source": [
    "books.Runtime = books.Runtime.str.replace('Length: ','')"
   ]
  },
  {
   "cell_type": "code",
   "execution_count": 165,
   "id": "2774ad01",
   "metadata": {},
   "outputs": [
    {
     "data": {
      "text/plain": [
       "array(['Warrior Fae', 'Choose Your Enemies', 'The Ritual', 'Reckless',\n",
       "       'The Puppeteers', 'Holy Spirit: The Bondage Breaker', 'The Shift',\n",
       "       'Workbook for Designing, Implementing, and Evaluating a Sharps Injury Prevention Program',\n",
       "       'The Gift', 'Data Research Algorithms About Outlier Detection',\n",
       "       'FFFHAMS', 'The Complete Poppy War Trilogy',\n",
       "       'Battleborne Book IV: Dungeon Master', 'Shift Point',\n",
       "       'Campaign Marketing Strategy Analysis of a New Product Launch in Czech',\n",
       "       'Aster Fall', 'Sweet Regret', 'Love, Theoretically',\n",
       "       'Forbidden Hearts', 'Saving Supervillains 4', 'Flaunt',\n",
       "       'Good as Gold', 'Central Park West', 'Shattersoul',\n",
       "       'Terms and Conditions', 'Primeiro Milhão [First Million]',\n",
       "       'Smart Technology Application in the Healthcare Industry',\n",
       "       'Tracking Justice', 'How to Do Magic That Works',\n",
       "       'From the World of Percy Jackson: Sun and the Star',\n",
       "       '10x Is Easier than 2x', 'Roman', 'Love Me Today', \"Lady's Well\",\n",
       "       'The Five-Star Weekend', 'One and Only', 'Hold Your Breath',\n",
       "       'Prince of the Sorrows', 'Montego', \"My Husband's House\",\n",
       "       'My Magnolia Summer', \"The Modern Girl's Guide to Magic\",\n",
       "       'Strength Unleashed: Startup', 'The Body on Archangel Beach',\n",
       "       'The One That Got Away', 'Keeper of Secrets',\n",
       "       'The Divine and the Cursed', 'Villain Era',\n",
       "       'Alison Bechdel’s Dykes to Watch Out For',\n",
       "       'System Reborn Vol 3 & 4',\n",
       "       \"The Lost & the Found: Adrian's March, Part Six\", 'Fortune Teller',\n",
       "       'Forsaken Crown', 'Meat Eater', 'Widow Lake', 'The Deborah Mantle',\n",
       "       'A Kingdom of Nomads', 'The Umbral Storm', 'Savannah',\n",
       "       'The Silmarillion', 'Domestic Extremist',\n",
       "       'Xeno Slayer: A Science Fiction Action Adventure', 'Aftermath',\n",
       "       'The Longmire Defense',\n",
       "       'CISSP All-in-One Exam Guide, Ninth Edition', 'Clue Krewe',\n",
       "       'Offside Hearts', 'Breaker of Horizons 2',\n",
       "       'Crucial Influence, Third Edition', 'Silent Ruin',\n",
       "       'The Primal Hunter 5', 'Made for Romeo', 'Lament at Loon Landing',\n",
       "       'The Undertow', 'Fourth Wing', 'Death at the Chateau',\n",
       "       'World Agricultural Technology Book 2023', 'Ward D',\n",
       "       'Never Kiss a Cowgirl', 'System Collapse', 'False Truth',\n",
       "       'The Rise of Western Christendom (10th Anniversary Revised Edition)',\n",
       "       'The Postcard', 'Contractually Yours', 'Resisting the Grump',\n",
       "       'Calling Bullsh*t on Busy', 'Royally in Trouble',\n",
       "       'Passive Prospecting', 'The Orc from the Office',\n",
       "       'One Thought Scares Me...', 'Vengeance Is Mine', 'Deadly Fate',\n",
       "       'The Alien Anomaly', 'All My Knotted-Up Life', 'Know Thy Enemy',\n",
       "       'The 16 Undeniable Laws of Communication', 'The Greatness Mindset',\n",
       "       'The CompTIA Security+ Computing Technology Industry Association Certification SY0-601 Study Guide - High-Tech Edition',\n",
       "       'The Lion: Son of the Forest', 'Dangerous', 'Waybound',\n",
       "       'The Sunny Side', 'The Obstacle Is the Way',\n",
       "       'House of Pounding Hearts', 'Fatal Betrayal',\n",
       "       'The Evil Twins of Technocracy and Transhumanism', 'Brutal Minds',\n",
       "       'The Delphi Murders', 'Elon Musk', \"Hamma's Last Prayer\",\n",
       "       'Until I Get You', 'Cruel Beast', 'Disruptive Thinking',\n",
       "       'Murder in Bermuda', 'The Silencer Series Box Set, Books 13-16',\n",
       "       'Tremendous', 'The Book of Charlie', 'Crimson River',\n",
       "       'The True Love Experiment', 'Drowning', 'Light Bringer',\n",
       "       \"The Senator's Wife\", 'The Covenant of Water',\n",
       "       'Meet Me at the Lake', 'Close Her Eyes', 'Letter Late than Never',\n",
       "       'The Worst Wedding Date', 'Icebreaker', 'Fast Like a Girl',\n",
       "       'The Whispers', 'Rogue Justice', 'The Lost Hero', 'The Celebrants',\n",
       "       'The Slight Edge', 'Gauntlet', 'The Russo-Ukrainian War',\n",
       "       'The Dragon Sovereign', 'The Anti-Communist Manifesto',\n",
       "       'Losers: Part 1', 'The Daddy Diaries', 'The Unwanted Marriage',\n",
       "       'Does It Hurt?', 'Manhood', 'Children of Time', 'Chasing Love',\n",
       "       \"A Very Grumpy Father's Day\", 'Unbound II',\n",
       "       'The ChatGPT Millionaire', 'Identity', 'The Handler',\n",
       "       '8 Rules of Love', 'Mile High', 'Cherish',\n",
       "       'Why Women Deserve Less', \"Romantic Comedy (Reese's Book Club)\",\n",
       "       'The Turning of Our Bones', 'Final Offer',\n",
       "       'How a Realist Hero Rebuilt the Kingdom: Volume 2',\n",
       "       'Got Your Number', \"Lady Tan's Circle of Women\",\n",
       "       'Between Commitment and Betrayal', 'The Will of the Many',\n",
       "       'So Many Steves', 'One Nation Under Blackmail, Vol. 1',\n",
       "       'Agave Spirits', 'Save State Hero', 'Women with ADHD',\n",
       "       'Scattered Minds', 'Gorgeous Prince', 'On Our Best Behavior',\n",
       "       'Only the Dead', 'Empire, Incorporated', 'The Untethered Soul',\n",
       "       'Sapiens', 'Born a Crime', \"The Hitchhiker's Guide to the Galaxy\",\n",
       "       'Shoe Dog', 'Rogue Darkness', 'Sons of Sorrow',\n",
       "       'The Return of the Gods', 'Yellowface', 'Red Rising',\n",
       "       'Dragon Heist', 'From the Grave', 'Highest Bidder', 'Spare',\n",
       "       'Outlive', 'Death Loot & Vampires: A LitRPG Adventure',\n",
       "       'Yours Truly', 'Soul Boom', 'Shores of Despair',\n",
       "       'Same Time Next Summer', 'Unfortunately Yours',\n",
       "       'Quantum Supremacy', 'The Wind Knows My Name',\n",
       "       'Tell Me Everything', 'The Paris Daughter',\n",
       "       'The Echo of Old Books', 'A Little Life', 'The Right Call',\n",
       "       'Birnam Wood', 'The Secret Life of Sunflowers', 'King: A Life',\n",
       "       'Good Night, Irene', 'Final Battle', 'Fractal Noise',\n",
       "       'Hidden Potential', 'The Well-Lived Life',\n",
       "       'The Song of Significance',\n",
       "       \"You Are the One You've Been Waiting For\", 'The 23rd Midnight',\n",
       "       'The Sordid Union between Intelligence and Organized Crime That Gave Rise to Jeffrey Epstein',\n",
       "       'Even If It Hurts', 'The Subtle Art of Not Giving a F*ck',\n",
       "       'Poverty, by America', 'Simply Lies', 'Fall of Damnos',\n",
       "       'The Perfect Veneer', 'Them', 'Carnival Quest', 'Ryan Renewed',\n",
       "       'Stray Spells', 'Defiant', 'Burn It Down', 'The Alchemist',\n",
       "       'The Five Dysfunctions of a Team', 'Good to Great', 'The Secret',\n",
       "       'Traction', 'Six of Crows', 'Guns, Germs and Steel', 'Zero to One',\n",
       "       'The City of Cutthroats',\n",
       "       'The Making of Another Major Motion Picture Masterpiece',\n",
       "       'Dead Law', 'All the Sinners Bleed', \"You Can't Joke About That\",\n",
       "       'The Diva Delivers on a Promise', 'Depp v Heard',\n",
       "       'A Deal with the Elf King (Dramatized Adaptation)', 'Wyn',\n",
       "       'Reading Price Charts Bar by Bar', 'Start with Why',\n",
       "       'To Kill a Mockingbird', 'Paris', 'Killing Moon', 'The Awe of God',\n",
       "       'Beware the Woman', \"We're All in This Together . . .\",\n",
       "       'The Silent Bride', 'Translation State', 'Profit First',\n",
       "       'A Gentleman in Moscow', 'Essentialism', 'Band of Brothers',\n",
       "       'Extreme Ownership', 'Never Split the Difference',\n",
       "       'The Nightingale', 'Eragon',\n",
       "       'Boundaries, Updated and Expanded Edition',\n",
       "       'Ink Blood Sister Scribe', 'Walking with Sam', 'My Murder',\n",
       "       'The Song of Achilles', 'The Running Grave',\n",
       "       'Cassandra in Reverse', 'Dirty Crazy Bad', 'Battlefield Reclaimer',\n",
       "       'The Intelligent Investor Rev Ed.', 'Keep It in the Family',\n",
       "       'Golden Hills', 'The Exorcism Files', 'Reforged', 'Glamoured',\n",
       "       'Mage', 'The Fae Princes', 'Road to Mastery',\n",
       "       'Cinders & Ashes, Book 6', 'The Annihilator',\n",
       "       'The Wisdom of the Bullfrog', 'The Accidental Contract',\n",
       "       'The Path of Ascension 3', 'The 6 Types of Working Genius',\n",
       "       'Bad Summer People', 'Cross Down', 'Wool',\n",
       "       'A Hypnotist’s Journey from the Trail to the Star People',\n",
       "       'Hunting the Hart', 'The Risk', 'Poor', 'Runaway Love',\n",
       "       'Murder at the Beauty Pageant',\n",
       "       'That Time I Got Drunk and Saved a Demon',\n",
       "       'Murder on the Night Train to Paris', 'The Whole-Brain Child',\n",
       "       'Start Your Notary Public & Loan Signing Agent Business',\n",
       "       'Death Comes to Marlow', 'The King in Yellow', 'Scaling Up',\n",
       "       'Jesus Calling (Updated and Expanded)', 'How We Love',\n",
       "       '1-2-3 Magic', 'The 15 Commitments of Conscious Leadership',\n",
       "       'The Art of Happiness', 'Legacy', 'The Sophia Code',\n",
       "       'My Brilliant Friend', 'Destiny of the Republic', 'Out of My Mind',\n",
       "       'Echo', 'Peak',\n",
       "       'The Curious Incident of the Dog in the Night-Time',\n",
       "       'Built to Sell', 'I Am Malala', 'The Red Tent',\n",
       "       'Rendezvous with Rama', 'The Shadow of the Wind',\n",
       "       'The Dance of Anger', 'The Unwelcomed Child', 'Just Kids',\n",
       "       'Practical Magic', 'Will I Ever Be Good Enough?',\n",
       "       'Legacy of Ashes', 'Esperanza Rising', 'The Tale of Despereaux',\n",
       "       'Crossing the Chasm', 'Decisive', 'The Forever War', 'Wish',\n",
       "       'From the Mixed-up Files of Mrs. Basil E. Frankweiler',\n",
       "       'Disorganized Attachment No More!',\n",
       "       \"I'm Thinking of Ending Things\", 'An Unquiet Mind',\n",
       "       'The End of the Affair', 'Sula', 'How to Raise an Adult',\n",
       "       'Teaching from Rest', 'Uglies', 'The Butterfly Garden',\n",
       "       'Hidden Figures', 'The Seven Husbands of Evelyn Hugo',\n",
       "       'Killers of the Flower Moon', 'Think and Grow Rich',\n",
       "       'The 4-Hour Workweek: Escape 9-5, Live Anywhere, and Join the New Rich (Expanded and Updated)',\n",
       "       'Enthralled', 'What Lurks Between the Fates',\n",
       "       'Entrepreneurial Leap (Updated and Expanded Edition)',\n",
       "       'Life of Pi', 'Thanks for the Feedback', 'Setting the Table',\n",
       "       'The City of Ember', 'Rework', 'The House on Mango Street',\n",
       "       'Let My People Go Surfing', 'One Up On Wall Street',\n",
       "       \"The Temporary Wife: Luca and Valentina's Story\", 'Glow',\n",
       "       'Codependent No More', 'Heal Thyself for Health and Longevity',\n",
       "       'Ramesses the Great', 'Azarinth Healer: Book Two',\n",
       "       'The Four Agreements', 'How to Talk to Anyone',\n",
       "       'Ruge o espera a ser devorado', 'The Name of the Wind',\n",
       "       'Ready Player One', 'The Total Money Makeover', 'The Duke and I',\n",
       "       'One True Loves', 'Empire of the Summer Moon', 'Why We Sleep',\n",
       "       'Bring Me Back', 'Jungle World', 'Challenge of the Court',\n",
       "       'As a Man Thinketh', 'The Devil in the White City',\n",
       "       'Fahrenheit 451', 'The Rise and Fall of the Third Reich',\n",
       "       'ChatGPT-4 for Beginners', 'The Princess Bride',\n",
       "       'Rise of the Weakest Summoner: Volume V', 'Pineapple Street',\n",
       "       'Barred Desires', 'The God Delusion', 'The Dragonbone Chair',\n",
       "       'A Sacrifice of Light', 'A Fire in the Flesh', 'Principles',\n",
       "       'You Shouldn’t Have Come Here', 'Did You Hear About Kitty Karr?',\n",
       "       'Neuromancer', 'Punk 57', 'The Maze Runner',\n",
       "       'The Ramona Quimby Audio Collection', 'The Goldfinch',\n",
       "       'A Curious Beginning', 'Is There a Narcissist in Your Life?',\n",
       "       'Hello Beautiful', 'Spell Thief', 'Bewitched', 'Cherry Picked',\n",
       "       'King of Wrath', 'Unfu*k Yourself', 'All the Light We Cannot See',\n",
       "       'Dark Healing Blind Trust', 'Night Vision', 'That Kind of Guy',\n",
       "       'Korra Is Live', 'Heartless',\n",
       "       'The Pocket Guide to High Ticket Selling', 'The Libyan Diversion',\n",
       "       'Lords of Uncreation', 'I Summoned My What?!',\n",
       "       \"The Scottish Ladies' Detective Agency\", 'Haunting Adeline',\n",
       "       'Stalking the Wild Pendulum',\n",
       "       'El viento conoce mi nombre [The Wind Knows My Name]',\n",
       "       'Last Resort', 'The Wrong Bride', 'The Night of the Party',\n",
       "       'By a Silver Thread', 'The Daily Dad', 'Bonded by Thorns',\n",
       "       'The Inmate', 'TRANCE Formation of America', 'Cage of Souls',\n",
       "       'The First Law of Cultivation', 'The Obesity Code',\n",
       "       'Change Your Thoughts, Change Your Life', 'Mere Christianity',\n",
       "       'Strung', 'Run on Red', 'Make Space for Happiness',\n",
       "       'House of Lies and Sorrow', 'An Assassin in Utopia',\n",
       "       'Blood Prophecy', 'Pen Pal', 'Maybe in Another Life',\n",
       "       'Dirty Laundry', 'Change Your Brain Every Day', 'Happy Place',\n",
       "       'The Utterly Uninteresting and Unadventurous Tales of Fred, the Vampire Accountant',\n",
       "       'The Joy of Well-Being', 'Tragic Bonds', 'The Strangest Forms',\n",
       "       'Four Battlegrounds', 'Knight Revelations', 'The Lion', 'Twisted',\n",
       "       'Inside Delta Force', 'Dessert with Buddha',\n",
       "       'Strong Fathers, Strong Daughters', 'Beautiful Disaster',\n",
       "       'To Sell Is Human', 'Wicked', 'A Tree Grows in Brooklyn',\n",
       "       'The Keeper of Lost Things', 'Pussy',\n",
       "       'The Emperor of All Maladies', 'How to Be a Great Boss',\n",
       "       'Around the Way Girl', 'The Day After Roswell', 'The Dispossessed',\n",
       "       'John Dies at the End', \"So Good They Can't Ignore You\",\n",
       "       'The Road Back to You', 'Lilac Girls', 'The Mists of Avalon',\n",
       "       'Contagious', 'The One and Only Ivan',\n",
       "       'The Art of Thinking Clearly', \"Goldratt's Rules of Flow\",\n",
       "       'Rebecca', 'Designing Your Life',\n",
       "       \"What Got You Here Won't Get You There\", 'Dumbing Us Down',\n",
       "       \"The Devil's Chessboard\", 'The Five People You Meet in Heaven',\n",
       "       'The Word of Promise Audio Bible—New King James Version, NKJV: Complete Bible',\n",
       "       'Nemesis', 'Angels Against the Sun', 'The Guest',\n",
       "       'Killing Sacred Cows', '1491', \"I Don't Want to Talk About It\",\n",
       "       'How to Build a Car', 'Their Eyes Were Watching God',\n",
       "       'They Both Die at the End', 'Infinite Jest',\n",
       "       'The Road Less Traveled', 'The Checklist Manifesto',\n",
       "       'The Hate U Give',\n",
       "       'Wiedergeburt: Legend of the Reincarnated Warrior: Volume 5',\n",
       "       'American Nations', \"The Heart's Invisible Furies\",\n",
       "       'Predictably Irrational', 'Once an Eagle', 'Empire of Lust',\n",
       "       'Things Hidden Since the Foundation of the World'], dtype=object)"
      ]
     },
     "execution_count": 165,
     "metadata": {},
     "output_type": "execute_result"
    }
   ],
   "source": [
    "books['Book Title'].unique()"
   ]
  },
  {
   "cell_type": "code",
   "execution_count": 166,
   "id": "d31f02ff",
   "metadata": {},
   "outputs": [],
   "source": [
    "books.to_csv('full_books.csv', index = False)"
   ]
  },
  {
   "cell_type": "markdown",
   "id": "c26ae1ce",
   "metadata": {},
   "source": [
    "Explicit waits"
   ]
  },
  {
   "cell_type": "code",
   "execution_count": 167,
   "id": "50a6750f",
   "metadata": {},
   "outputs": [],
   "source": [
    "from selenium.webdriver.common.by import By\n",
    "from selenium.webdriver.support.ui import WebDriverWait\n",
    "from selenium.webdriver.support import expected_conditions as EC"
   ]
  },
  {
   "cell_type": "code",
   "execution_count": 168,
   "id": "ba67200c",
   "metadata": {},
   "outputs": [
    {
     "name": "stderr",
     "output_type": "stream",
     "text": [
      "C:\\Users\\97798\\AppData\\Local\\Temp\\ipykernel_724\\1270565432.py:9: DeprecationWarning: executable_path has been deprecated, please pass in a Service object\n",
      "  driver = webdriver.Chrome(path)\n"
     ]
    },
    {
     "name": "stdout",
     "output_type": "stream",
     "text": [
      "Scraping Page 1...\n",
      "Scraping Page 2...\n",
      "Scraping Page 3...\n",
      "Scraping Page 4...\n",
      "Scraping Page 5...\n",
      "Scraping Page 6...\n",
      "Scraping Page 7...\n",
      "Scraping Page 8...\n",
      "Scraping Page 9...\n",
      "Scraping Page 10...\n",
      "Scraping Page 11...\n",
      "Scraping Page 12...\n",
      "Scraping Page 13...\n",
      "Scraping Page 14...\n",
      "Scraping Page 15...\n",
      "Scraping Page 16...\n",
      "Scraping Page 17...\n",
      "Scraping Page 18...\n",
      "Scraping Page 19...\n",
      "Scraping Page 20...\n",
      "Scraping Page 21...\n",
      "Scraping Page 22...\n",
      "Scraping Page 23...\n",
      "Scraping Page 24...\n",
      "Scraping Page 25...\n"
     ]
    },
    {
     "ename": "NoSuchWindowException",
     "evalue": "Message: no such window: target window already closed\nfrom unknown error: web view not found\n  (Session info: chrome=114.0.5735.110)\nStacktrace:\nBacktrace:\n\tGetHandleVerifier [0x00DDA813+48355]\n\t(No symbol) [0x00D6C4B1]\n\t(No symbol) [0x00C75358]\n\t(No symbol) [0x00C5D293]\n\t(No symbol) [0x00CBE37B]\n\t(No symbol) [0x00CCC473]\n\t(No symbol) [0x00CBA536]\n\t(No symbol) [0x00C982DC]\n\t(No symbol) [0x00C993DD]\n\tGetHandleVerifier [0x0103AABD+2539405]\n\tGetHandleVerifier [0x0107A78F+2800735]\n\tGetHandleVerifier [0x0107456C+2775612]\n\tGetHandleVerifier [0x00E651E0+616112]\n\t(No symbol) [0x00D75F8C]\n\t(No symbol) [0x00D72328]\n\t(No symbol) [0x00D7240B]\n\t(No symbol) [0x00D64FF7]\n\tBaseThreadInitThunk [0x761D7D59+25]\n\tRtlInitializeExceptionChain [0x7742B74B+107]\n\tRtlClearBits [0x7742B6CF+191]\n",
     "output_type": "error",
     "traceback": [
      "\u001b[1;31m---------------------------------------------------------------------------\u001b[0m",
      "\u001b[1;31mNoSuchWindowException\u001b[0m                     Traceback (most recent call last)",
      "Input \u001b[1;32mIn [168]\u001b[0m, in \u001b[0;36m<cell line: 29>\u001b[1;34m()\u001b[0m\n\u001b[0;32m     30\u001b[0m \u001b[38;5;28mprint\u001b[39m(\u001b[38;5;124mf\u001b[39m\u001b[38;5;124m\"\u001b[39m\u001b[38;5;124mScraping Page \u001b[39m\u001b[38;5;132;01m{\u001b[39;00mcurrent_page\u001b[38;5;132;01m}\u001b[39;00m\u001b[38;5;124m...\u001b[39m\u001b[38;5;124m\"\u001b[39m)\n\u001b[0;32m     32\u001b[0m \u001b[38;5;66;03m# Find all book titles using XPath\u001b[39;00m\n\u001b[1;32m---> 33\u001b[0m titles \u001b[38;5;241m=\u001b[39m \u001b[43mdriver\u001b[49m\u001b[38;5;241;43m.\u001b[39;49m\u001b[43mfind_elements\u001b[49m\u001b[43m(\u001b[49m\u001b[43mBy\u001b[49m\u001b[38;5;241;43m.\u001b[39;49m\u001b[43mXPATH\u001b[49m\u001b[43m,\u001b[49m\u001b[43m \u001b[49m\u001b[38;5;124;43m'\u001b[39;49m\u001b[38;5;124;43m//h3[contains(@class, \u001b[39;49m\u001b[38;5;124;43m\"\u001b[39;49m\u001b[38;5;124;43mbc-heading\u001b[39;49m\u001b[38;5;124;43m\"\u001b[39;49m\u001b[38;5;124;43m)]\u001b[39;49m\u001b[38;5;124;43m'\u001b[39;49m\u001b[43m)\u001b[49m\n\u001b[0;32m     34\u001b[0m book_titles\u001b[38;5;241m.\u001b[39mextend([title\u001b[38;5;241m.\u001b[39mtext\u001b[38;5;241m.\u001b[39mstrip() \u001b[38;5;28;01mfor\u001b[39;00m title \u001b[38;5;129;01min\u001b[39;00m titles])\n\u001b[0;32m     36\u001b[0m \u001b[38;5;66;03m# Find all author names using XPath\u001b[39;00m\n",
      "File \u001b[1;32m~\\anaconda3\\lib\\site-packages\\selenium\\webdriver\\remote\\webdriver.py:1284\u001b[0m, in \u001b[0;36mWebDriver.find_elements\u001b[1;34m(self, by, value)\u001b[0m\n\u001b[0;32m   1280\u001b[0m     value \u001b[38;5;241m=\u001b[39m \u001b[38;5;124m'\u001b[39m\u001b[38;5;124m[name=\u001b[39m\u001b[38;5;124m\"\u001b[39m\u001b[38;5;132;01m%s\u001b[39;00m\u001b[38;5;124m\"\u001b[39m\u001b[38;5;124m]\u001b[39m\u001b[38;5;124m'\u001b[39m \u001b[38;5;241m%\u001b[39m value\n\u001b[0;32m   1282\u001b[0m \u001b[38;5;66;03m# Return empty list if driver returns null\u001b[39;00m\n\u001b[0;32m   1283\u001b[0m \u001b[38;5;66;03m# See https://github.com/SeleniumHQ/selenium/issues/4555\u001b[39;00m\n\u001b[1;32m-> 1284\u001b[0m \u001b[38;5;28;01mreturn\u001b[39;00m \u001b[38;5;28;43mself\u001b[39;49m\u001b[38;5;241;43m.\u001b[39;49m\u001b[43mexecute\u001b[49m\u001b[43m(\u001b[49m\u001b[43mCommand\u001b[49m\u001b[38;5;241;43m.\u001b[39;49m\u001b[43mFIND_ELEMENTS\u001b[49m\u001b[43m,\u001b[49m\u001b[43m \u001b[49m\u001b[43m{\u001b[49m\n\u001b[0;32m   1285\u001b[0m \u001b[43m    \u001b[49m\u001b[38;5;124;43m'\u001b[39;49m\u001b[38;5;124;43musing\u001b[39;49m\u001b[38;5;124;43m'\u001b[39;49m\u001b[43m:\u001b[49m\u001b[43m \u001b[49m\u001b[43mby\u001b[49m\u001b[43m,\u001b[49m\n\u001b[0;32m   1286\u001b[0m \u001b[43m    \u001b[49m\u001b[38;5;124;43m'\u001b[39;49m\u001b[38;5;124;43mvalue\u001b[39;49m\u001b[38;5;124;43m'\u001b[39;49m\u001b[43m:\u001b[49m\u001b[43m \u001b[49m\u001b[43mvalue\u001b[49m\u001b[43m}\u001b[49m\u001b[43m)\u001b[49m[\u001b[38;5;124m'\u001b[39m\u001b[38;5;124mvalue\u001b[39m\u001b[38;5;124m'\u001b[39m] \u001b[38;5;129;01mor\u001b[39;00m []\n",
      "File \u001b[1;32m~\\anaconda3\\lib\\site-packages\\selenium\\webdriver\\remote\\webdriver.py:430\u001b[0m, in \u001b[0;36mWebDriver.execute\u001b[1;34m(self, driver_command, params)\u001b[0m\n\u001b[0;32m    428\u001b[0m response \u001b[38;5;241m=\u001b[39m \u001b[38;5;28mself\u001b[39m\u001b[38;5;241m.\u001b[39mcommand_executor\u001b[38;5;241m.\u001b[39mexecute(driver_command, params)\n\u001b[0;32m    429\u001b[0m \u001b[38;5;28;01mif\u001b[39;00m response:\n\u001b[1;32m--> 430\u001b[0m     \u001b[38;5;28;43mself\u001b[39;49m\u001b[38;5;241;43m.\u001b[39;49m\u001b[43merror_handler\u001b[49m\u001b[38;5;241;43m.\u001b[39;49m\u001b[43mcheck_response\u001b[49m\u001b[43m(\u001b[49m\u001b[43mresponse\u001b[49m\u001b[43m)\u001b[49m\n\u001b[0;32m    431\u001b[0m     response[\u001b[38;5;124m'\u001b[39m\u001b[38;5;124mvalue\u001b[39m\u001b[38;5;124m'\u001b[39m] \u001b[38;5;241m=\u001b[39m \u001b[38;5;28mself\u001b[39m\u001b[38;5;241m.\u001b[39m_unwrap_value(\n\u001b[0;32m    432\u001b[0m         response\u001b[38;5;241m.\u001b[39mget(\u001b[38;5;124m'\u001b[39m\u001b[38;5;124mvalue\u001b[39m\u001b[38;5;124m'\u001b[39m, \u001b[38;5;28;01mNone\u001b[39;00m))\n\u001b[0;32m    433\u001b[0m     \u001b[38;5;28;01mreturn\u001b[39;00m response\n",
      "File \u001b[1;32m~\\anaconda3\\lib\\site-packages\\selenium\\webdriver\\remote\\errorhandler.py:247\u001b[0m, in \u001b[0;36mErrorHandler.check_response\u001b[1;34m(self, response)\u001b[0m\n\u001b[0;32m    245\u001b[0m         alert_text \u001b[38;5;241m=\u001b[39m value[\u001b[38;5;124m'\u001b[39m\u001b[38;5;124malert\u001b[39m\u001b[38;5;124m'\u001b[39m]\u001b[38;5;241m.\u001b[39mget(\u001b[38;5;124m'\u001b[39m\u001b[38;5;124mtext\u001b[39m\u001b[38;5;124m'\u001b[39m)\n\u001b[0;32m    246\u001b[0m     \u001b[38;5;28;01mraise\u001b[39;00m exception_class(message, screen, stacktrace, alert_text)  \u001b[38;5;66;03m# type: ignore[call-arg]  # mypy is not smart enough here\u001b[39;00m\n\u001b[1;32m--> 247\u001b[0m \u001b[38;5;28;01mraise\u001b[39;00m exception_class(message, screen, stacktrace)\n",
      "\u001b[1;31mNoSuchWindowException\u001b[0m: Message: no such window: target window already closed\nfrom unknown error: web view not found\n  (Session info: chrome=114.0.5735.110)\nStacktrace:\nBacktrace:\n\tGetHandleVerifier [0x00DDA813+48355]\n\t(No symbol) [0x00D6C4B1]\n\t(No symbol) [0x00C75358]\n\t(No symbol) [0x00C5D293]\n\t(No symbol) [0x00CBE37B]\n\t(No symbol) [0x00CCC473]\n\t(No symbol) [0x00CBA536]\n\t(No symbol) [0x00C982DC]\n\t(No symbol) [0x00C993DD]\n\tGetHandleVerifier [0x0103AABD+2539405]\n\tGetHandleVerifier [0x0107A78F+2800735]\n\tGetHandleVerifier [0x0107456C+2775612]\n\tGetHandleVerifier [0x00E651E0+616112]\n\t(No symbol) [0x00D75F8C]\n\t(No symbol) [0x00D72328]\n\t(No symbol) [0x00D7240B]\n\t(No symbol) [0x00D64FF7]\n\tBaseThreadInitThunk [0x761D7D59+25]\n\tRtlInitializeExceptionChain [0x7742B74B+107]\n\tRtlClearBits [0x7742B6CF+191]\n"
     ]
    }
   ],
   "source": [
    "from selenium import webdriver\n",
    "import time\n",
    "from selenium.webdriver.common.by import By\n",
    "from selenium.webdriver.support.ui import WebDriverWait\n",
    "from selenium.webdriver.support import expected_conditions as EC\n",
    "import pandas as pd\n",
    "\n",
    "# Start the Selenium WebDriver (ensure you have the appropriate driver executable in your PATH)\n",
    "driver = webdriver.Chrome(path)\n",
    "\n",
    "# Navigate to the Audible search page\n",
    "url = \"https://www.audible.com/search\"\n",
    "driver.get(url)\n",
    "\n",
    "# Initialize empty lists for book titles, author names, and runtimes\n",
    "book_titles = []\n",
    "author_names = []\n",
    "runtimes = []\n",
    "\n",
    "# Get the maximum number of pages to scrape\n",
    "pagination = WebDriverWait(driver, 10).until(\n",
    "    EC.presence_of_element_located((By.XPATH, '//ul[contains(@class, \"pagingElements\")]'))\n",
    ")\n",
    "pages = pagination.find_elements(By.TAG_NAME, 'li')\n",
    "last_page = int(pages[-2].text)\n",
    "\n",
    "# Loop through the pages\n",
    "current_page = 1\n",
    "while current_page <= last_page:\n",
    "    print(f\"Scraping Page {current_page}...\")\n",
    "    \n",
    "    # Find all book titles using XPath\n",
    "    titles = driver.find_elements(By.XPATH, '//h3[contains(@class, \"bc-heading\")]')\n",
    "    book_titles.extend([title.text.strip() for title in titles])\n",
    "\n",
    "    # Find all author names using XPath\n",
    "    authors = driver.find_elements(By.XPATH, '//li[contains(@class, \"authorLabel\")]')\n",
    "    author_names.extend([author.text.strip() for author in authors])\n",
    "\n",
    "    # Find all runtimes using XPath\n",
    "    runtimes_elements = driver.find_elements(By.XPATH, '//li[contains(@class, \"runtimeLabel\")]')\n",
    "    runtimes.extend([runtime.text.strip() for runtime in runtimes_elements])\n",
    "\n",
    "    # Check if there is a next page\n",
    "    next_page = WebDriverWait(driver, 10).until(\n",
    "        EC.presence_of_element_located((By.XPATH, '//span[contains(@class, \"nextButton\")]'))\n",
    "    )\n",
    "    if \"disabled\" in next_page.get_attribute(\"class\"):\n",
    "        break  # Exit the loop if there is no next page\n",
    "\n",
    "    # Click the next page button\n",
    "    next_page.click()\n",
    "\n",
    "    # Add a delay to allow the page to load before scraping the next page\n",
    "    time.sleep(2)\n",
    "\n",
    "    # Increment the current page counter\n",
    "    current_page += 1\n",
    "\n",
    "# Create a dataframe\n",
    "data = {\n",
    "    \"Book Title\": book_titles,\n",
    "    \"Author Name\": author_names,\n",
    "    \"Runtime\": runtimes\n",
    "}\n",
    "df = pd.DataFrame(data)\n",
    "\n",
    "# Print the dataframe\n",
    "print(df)\n",
    "\n",
    "# Close the browser\n",
    "driver.quit()\n"
   ]
  },
  {
   "cell_type": "code",
   "execution_count": null,
   "id": "5c7f5738",
   "metadata": {},
   "outputs": [],
   "source": []
  }
 ],
 "metadata": {
  "kernelspec": {
   "display_name": "Python 3 (ipykernel)",
   "language": "python",
   "name": "python3"
  },
  "language_info": {
   "codemirror_mode": {
    "name": "ipython",
    "version": 3
   },
   "file_extension": ".py",
   "mimetype": "text/x-python",
   "name": "python",
   "nbconvert_exporter": "python",
   "pygments_lexer": "ipython3",
   "version": "3.9.12"
  }
 },
 "nbformat": 4,
 "nbformat_minor": 5
}
