{
 "cells": [
  {
   "cell_type": "code",
   "execution_count": null,
   "id": "3cbebad6",
   "metadata": {},
   "outputs": [],
   "source": [
    "from selenium import webdriver"
   ]
  },
  {
   "cell_type": "code",
   "execution_count": null,
   "id": "bd8c233e",
   "metadata": {},
   "outputs": [],
   "source": [
    "import csv\n",
    "from selenium import webdriver\n",
    "from selenium.webdriver.chrome.options import Options\n",
    "from selenium.webdriver.common.by import By\n",
    "from selenium.webdriver.support.ui import Select\n",
    "\n",
    "# Set up Chrome options\n",
    "chrome_options = Options()\n",
    "chrome_options.add_argument(\"--headless\")  # Run Chrome in headless mode\n",
    "\n",
    "# Path to the chromedriver executable\n",
    "chromedriver_path = r\"C:\\Users\\97798\\Desktop\\chromedriver_win32\\chromedriver.exe\"\n",
    "\n",
    "# Initialize ChromeDriver instance\n",
    "driver = webdriver.Chrome(executable_path=chromedriver_path, options=chrome_options)\n",
    "\n",
    "# URL to scrape\n",
    "url = \"https://www.selenium.dev\"\n",
    "\n",
    "# Navigate to the URL\n",
    "driver.get(url)\n",
    "\n",
    "# Find elements using different locators\n",
    "element_by_id = driver.find_element_by_id( \"element_id\")\n",
    "element_by_class = driver.find_element_by_class_name( \"element_class\")\n",
    "elements_by_tagname = driver.find_element_by_tag_name(\"div\")\n",
    "\n",
    "# Click on a button\n",
    "button = driver.find_element_by_xpath( \"//button[contains(text(), 'Click Me')]\")\n",
    "button.click()\n",
    "\n",
    "# Extract data from a table\n",
    "table = driver.find_element_by_id( \"table_id\")\n",
    "rows = table.find_element_by_tag_name( \"tr\")\n",
    "\n",
    "data = []\n",
    "for row in rows:\n",
    "    cells = row.find_element_by_tag_name( \"td\")\n",
    "    row_data = [cell.text for cell in cells]\n",
    "    data.append(row_data)\n",
    "\n",
    "# Save data to a CSV file\n",
    "csv_filename = \"data.csv\"\n",
    "with open(csv_filename, \"w\", newline=\"\") as csvfile:\n",
    "    writer = csv.writer(csvfile)\n",
    "    writer.writerows(data)\n",
    "\n",
    "# Select elements from a dropdown\n",
    "dropdown = Select(driver.find_element_by_id(\"dropdown_id\"))\n",
    "dropdown.select_by_value(\"option_value\")\n",
    "\n",
    "# Clean up\n",
    "driver.quit()\n"
   ]
  },
  {
   "cell_type": "code",
   "execution_count": null,
   "id": "23ad169a",
   "metadata": {},
   "outputs": [],
   "source": []
  }
 ],
 "metadata": {
  "kernelspec": {
   "display_name": "Python 3 (ipykernel)",
   "language": "python",
   "name": "python3"
  },
  "language_info": {
   "codemirror_mode": {
    "name": "ipython",
    "version": 3
   },
   "file_extension": ".py",
   "mimetype": "text/x-python",
   "name": "python",
   "nbconvert_exporter": "python",
   "pygments_lexer": "ipython3",
   "version": "3.9.12"
  }
 },
 "nbformat": 4,
 "nbformat_minor": 5
}
