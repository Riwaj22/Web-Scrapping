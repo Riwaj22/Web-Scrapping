{
 "cells": [
  {
   "cell_type": "code",
   "execution_count": 24,
   "id": "3ec7e58b",
   "metadata": {},
   "outputs": [],
   "source": [
    "from autoscraper import AutoScraper"
   ]
  },
  {
   "cell_type": "code",
   "execution_count": 66,
   "id": "552480d0",
   "metadata": {},
   "outputs": [],
   "source": [
    "amazon_url = 'https://www.amazon.in/s?k=iphone&ref=nb_sb_noss_2'"
   ]
  },
  {
   "cell_type": "code",
   "execution_count": 67,
   "id": "1768839a",
   "metadata": {},
   "outputs": [],
   "source": [
    "wanted_list = ['Apple iPhone 11 (64GB) - White',\n",
    "               '₹40,999',\n",
    "               '74,581'\n",
    "              ]"
   ]
  },
  {
   "cell_type": "code",
   "execution_count": 68,
   "id": "acd4abc6",
   "metadata": {},
   "outputs": [],
   "source": [
    "scrapper = AutoScraper()"
   ]
  },
  {
   "cell_type": "code",
   "execution_count": 69,
   "id": "11de9768",
   "metadata": {},
   "outputs": [],
   "source": [
    "result = scrapper.build(amazon_url, wanted_list)"
   ]
  },
  {
   "cell_type": "code",
   "execution_count": 70,
   "id": "20a415db",
   "metadata": {},
   "outputs": [
    {
     "name": "stdout",
     "output_type": "stream",
     "text": [
      "['Apple iPhone 14 Plus (128 GB) - Midnight', 'Apple iPhone 14 (256 GB) - Midnight', 'Apple iPhone 14 Pro (128 GB) - Deep Purple', 'Apple iPhone 14 Pro Max (128 GB) - Space Black', 'Apple iPhone 11 (64GB) - White', 'Apple iPhone 14 Plus (128 GB) - Purple', 'Apple iPhone 14 Pro Max (256 GB) - Gold', 'Apple iPhone 14 Pro Max (256 GB) - Space Black', 'Apple iPhone 12 (64GB) - Black', 'Apple iPhone 13 (128GB) - Green', 'Apple iPhone 11 (64GB) - Black', '6 64GB Original Smartphones Compatible Apple iPhone (Space Grey)', 'Apple iPhone 14 Plus (128 GB) - Starlight', 'Apple iPhone SE (64 GB) - Starlight (3rd Generation)', 'Apple iPhone 14 Plus (256 GB) - Midnight', 'Apple iPhone 14 Plus (128 GB) - Blue', 'Apple iPhone 14 Plus (256 GB) - (Product) RED', 'Apple iPhone 13 Mini (512 GB) - Green', 'Apple iPhone 14 Pro (128 GB) - Space Black', 'Apple iPhone 14 Pro Max (128 GB) - Silver', 'Apple iPhone SE (128 GB) - Starlight (3rd Generation)', 'Apple iPhone 14 Pro (256 GB) - Deep Purple', 'Apple iPhone 14 Pro Max (512 GB) - Silver', 'Apple iPhone 14 Plus (512 GB) - Purple', 'Apple iPhone 14 Pro (128 GB) - Gold', 'Apple iPhone 14 Plus (256 GB) - Starlight', 'Apple iPhone 12 (256GB) - Purple', 'Apple iPhone 14 Pro (256 GB) - Silver', 'Apple iPhone 12 (256GB) - Blue', 'Apple iPhone SE (64 GB) - Midnight (3rd Generation)', 'Apple iPhone 14 Plus (512 GB) - Blue', 'OnePlus 11R 5G (Galactic Silver, 8GB RAM, 128GB Storage)', '₹79,999', '₹89,900', '₹1,19,999', '₹1,27,999', '₹40,999', '₹1,41,990', '₹59,900', '₹62,990', '₹18,499', '₹49,900', '₹89,999', '₹91,990', '₹54,900', '₹1,32,990', '₹1,69,900', '₹1,10,999', '₹69,900', '₹1,29,999', '₹1,09,999', '₹39,999', '736', '45', '511', '596', '74,581', '30,106', '4,438', '308', '1,734', '4,712']\n"
     ]
    }
   ],
   "source": [
    "print(result\n",
    "     )"
   ]
  },
  {
   "cell_type": "code",
   "execution_count": 71,
   "id": "b5895eb7",
   "metadata": {},
   "outputs": [
    {
     "data": {
      "text/plain": [
       "{'rule_brf7': ['Apple iPhone 14 Plus (128 GB) - Midnight',\n",
       "  'Apple iPhone 14 (256 GB) - Midnight',\n",
       "  'Apple iPhone 14 Pro (128 GB) - Deep Purple',\n",
       "  'Apple iPhone 14 Pro Max (128 GB) - Space Black',\n",
       "  'Apple iPhone 11 (64GB) - White',\n",
       "  'Apple iPhone 14 Plus (128 GB) - Purple',\n",
       "  'Apple iPhone 14 Pro Max (256 GB) - Gold',\n",
       "  'Apple iPhone 14 Pro Max (256 GB) - Space Black',\n",
       "  'Apple iPhone 12 (64GB) - Black',\n",
       "  'Apple iPhone 13 (128GB) - Green',\n",
       "  'Apple iPhone 11 (64GB) - Black',\n",
       "  '6 64GB Original Smartphones Compatible Apple iPhone (Space Grey)',\n",
       "  'Apple iPhone 14 Plus (128 GB) - Starlight',\n",
       "  'Apple iPhone SE (64 GB) - Starlight (3rd Generation)',\n",
       "  'Apple iPhone 14 Plus (256 GB) - Midnight',\n",
       "  'Apple iPhone 14 Plus (128 GB) - Blue',\n",
       "  'Apple iPhone 14 Plus (256 GB) - (Product) RED',\n",
       "  'Apple iPhone 13 Mini (512 GB) - Green',\n",
       "  'Apple iPhone 14 Pro (128 GB) - Space Black',\n",
       "  'Apple iPhone 14 Pro Max (128 GB) - Silver',\n",
       "  'Apple iPhone SE (128 GB) - Starlight (3rd Generation)',\n",
       "  'Apple iPhone 14 Pro (256 GB) - Deep Purple',\n",
       "  'Apple iPhone 14 Pro Max (512 GB) - Silver',\n",
       "  'Apple iPhone 14 Plus (512 GB) - Purple'],\n",
       " 'rule_i7e3': ['Apple iPhone 14 Plus (128 GB) - Midnight',\n",
       "  'Apple iPhone 14 (256 GB) - Midnight',\n",
       "  'Apple iPhone 14 Pro (128 GB) - Deep Purple',\n",
       "  'Apple iPhone 14 Pro Max (128 GB) - Space Black',\n",
       "  'Apple iPhone 11 (64GB) - White',\n",
       "  'Apple iPhone 14 Plus (128 GB) - Purple',\n",
       "  'Apple iPhone 14 Pro Max (256 GB) - Gold',\n",
       "  'Apple iPhone 14 Pro Max (256 GB) - Space Black',\n",
       "  'Apple iPhone 12 (64GB) - Black',\n",
       "  'Apple iPhone 13 (128GB) - Green',\n",
       "  'Apple iPhone 11 (64GB) - Black',\n",
       "  '6 64GB Original Smartphones Compatible Apple iPhone (Space Grey)',\n",
       "  'Apple iPhone 14 Plus (128 GB) - Starlight',\n",
       "  'Apple iPhone SE (64 GB) - Starlight (3rd Generation)',\n",
       "  'Apple iPhone 14 Plus (256 GB) - Midnight',\n",
       "  'Apple iPhone 14 Plus (128 GB) - Blue',\n",
       "  'Apple iPhone 14 Plus (256 GB) - (Product) RED',\n",
       "  'Apple iPhone 13 Mini (512 GB) - Green',\n",
       "  'Apple iPhone 14 Pro (128 GB) - Space Black',\n",
       "  'Apple iPhone 14 Pro Max (128 GB) - Silver',\n",
       "  'Apple iPhone SE (128 GB) - Starlight (3rd Generation)',\n",
       "  'Apple iPhone 14 Pro (256 GB) - Deep Purple',\n",
       "  'Apple iPhone 14 Pro Max (512 GB) - Silver',\n",
       "  'Apple iPhone 14 Plus (512 GB) - Purple'],\n",
       " 'rule_x496': ['Apple iPhone 11 (64GB) - White',\n",
       "  'Apple iPhone 14 Plus (128 GB) - Blue'],\n",
       " 'rule_860e': ['₹79,999',\n",
       "  '₹89,900',\n",
       "  '₹1,19,999',\n",
       "  '₹1,27,999',\n",
       "  '₹40,999',\n",
       "  '₹79,999',\n",
       "  '₹1,41,990',\n",
       "  '₹1,41,990',\n",
       "  '₹59,900',\n",
       "  '₹62,990',\n",
       "  '₹40,999',\n",
       "  '₹18,499',\n",
       "  '₹79,999',\n",
       "  '₹49,900',\n",
       "  '₹89,999',\n",
       "  '₹79,999',\n",
       "  '₹91,990',\n",
       "  '₹89,999',\n",
       "  '₹1,19,999',\n",
       "  '₹1,27,999',\n",
       "  '₹54,900',\n",
       "  '₹1,32,990',\n",
       "  '₹1,69,900',\n",
       "  '₹1,10,999'],\n",
       " 'rule_jr0x': ['₹79,999',\n",
       "  '₹89,900',\n",
       "  '₹1,19,999',\n",
       "  '₹1,27,999',\n",
       "  '₹40,999',\n",
       "  '₹79,999',\n",
       "  '₹1,41,990',\n",
       "  '₹1,41,990',\n",
       "  '₹59,900',\n",
       "  '₹62,990',\n",
       "  '₹40,999',\n",
       "  '₹18,499',\n",
       "  '₹79,999',\n",
       "  '₹49,900',\n",
       "  '₹89,999',\n",
       "  '₹79,999',\n",
       "  '₹91,990',\n",
       "  '₹89,999',\n",
       "  '₹1,19,999',\n",
       "  '₹1,27,999',\n",
       "  '₹54,900',\n",
       "  '₹1,32,990',\n",
       "  '₹1,69,900',\n",
       "  '₹1,10,999'],\n",
       " 'rule_334c': ['₹79,999',\n",
       "  '₹89,900',\n",
       "  '₹1,19,999',\n",
       "  '₹1,27,999',\n",
       "  '₹40,999',\n",
       "  '₹79,999',\n",
       "  '₹1,41,990',\n",
       "  '₹1,41,990',\n",
       "  '₹59,900',\n",
       "  '₹62,990',\n",
       "  '₹40,999',\n",
       "  '₹18,499',\n",
       "  '₹79,999',\n",
       "  '₹49,900',\n",
       "  '₹89,999',\n",
       "  '₹79,999',\n",
       "  '₹91,990',\n",
       "  '₹89,999',\n",
       "  '₹1,19,999',\n",
       "  '₹1,27,999',\n",
       "  '₹54,900',\n",
       "  '₹1,32,990',\n",
       "  '₹1,69,900',\n",
       "  '₹1,10,999'],\n",
       " 'rule_rmy8': ['₹79,999',\n",
       "  '₹89,900',\n",
       "  '₹1,19,999',\n",
       "  '₹1,27,999',\n",
       "  '₹40,999',\n",
       "  '₹79,999',\n",
       "  '₹1,41,990',\n",
       "  '₹1,41,990',\n",
       "  '₹59,900',\n",
       "  '₹62,990',\n",
       "  '₹40,999',\n",
       "  '₹18,499',\n",
       "  '₹79,999',\n",
       "  '₹49,900',\n",
       "  '₹89,999',\n",
       "  '₹79,999',\n",
       "  '₹91,990',\n",
       "  '₹89,999',\n",
       "  '₹1,19,999',\n",
       "  '₹1,27,999',\n",
       "  '₹54,900',\n",
       "  '₹1,32,990',\n",
       "  '₹1,69,900',\n",
       "  '₹1,10,999'],\n",
       " 'rule_3jk9': ['₹40,999', '₹79,999'],\n",
       " 'rule_k9x0': ['₹40,999', '₹79,999'],\n",
       " 'rule_fnpm': ['736',\n",
       "  '45',\n",
       "  '511',\n",
       "  '596',\n",
       "  '74,581',\n",
       "  '736',\n",
       "  '596',\n",
       "  '596',\n",
       "  '30,106',\n",
       "  '4,438',\n",
       "  '74,581',\n",
       "  '736',\n",
       "  '308',\n",
       "  '736',\n",
       "  '736',\n",
       "  '736',\n",
       "  '1,734',\n",
       "  '511',\n",
       "  '596',\n",
       "  '308',\n",
       "  '511',\n",
       "  '596',\n",
       "  '736'],\n",
       " 'rule_3ebx': ['736',\n",
       "  '45',\n",
       "  '511',\n",
       "  '596',\n",
       "  '74,581',\n",
       "  '736',\n",
       "  '596',\n",
       "  '596',\n",
       "  '30,106',\n",
       "  '4,438',\n",
       "  '74,581',\n",
       "  '736',\n",
       "  '308',\n",
       "  '736',\n",
       "  '736',\n",
       "  '736',\n",
       "  '1,734',\n",
       "  '511',\n",
       "  '596',\n",
       "  '308',\n",
       "  '511',\n",
       "  '596',\n",
       "  '736'],\n",
       " 'rule_06nc': ['74,581', '736']}"
      ]
     },
     "execution_count": 71,
     "metadata": {},
     "output_type": "execute_result"
    }
   ],
   "source": [
    "scrapper.get_result_similar(amazon_url, grouped=True)"
   ]
  },
  {
   "cell_type": "code",
   "execution_count": 72,
   "id": "c7b08afc",
   "metadata": {},
   "outputs": [],
   "source": [
    "scrapper.set_rule_aliases(\n",
    "    {\n",
    "        'rule_brf7':'Title',\n",
    "        'rule_860e':'Price'\n",
    "        \n",
    "    }\n",
    ")\n",
    "\n",
    "scrapper.keep_rules(['rule_brf7','rule_860e'])\n",
    "\n",
    "scrapper.save('amazon title')"
   ]
  },
  {
   "cell_type": "code",
   "execution_count": 73,
   "id": "255c92a9",
   "metadata": {},
   "outputs": [
    {
     "data": {
      "text/plain": [
       "{'Title': ['Redmi 12C (Royal Blue, 4GB RAM, 64GB Storage) | High Performance Mediatek Helio G85 | Big 17cm(6.71) HD+ Display with 5000mAh(typ) Battery',\n",
       "  'Redmi 11 Prime 5G (Chrome Silver, 4GB RAM 64GB ROM) | Prime Design | MTK Dimensity 700 | 50 MP Dual Cam | 5000mAh | 7 Band 5G',\n",
       "  'Redmi 11 Prime (Playful Green, 6BG RAM 128GB ROM) | Prime Design | High Performance Helio G99 | 50 MP AI Triple Cam | 5000 mAh | 22.5W',\n",
       "  'Amazon\\'s Choicefor \"mi phones\"',\n",
       "  'Redmi 10 Power (Power Black, 8GB RAM, 128GB Storage)',\n",
       "  'Redmi A1 (Light Green, 2GB RAM 32GB ROM) | Segment Best AI Dual Cam | 5000mAh Battery | Leather Texture Design | Android 12',\n",
       "  'Redmi Note 10S (Frost White, 6GB RAM, 128GB Storage) - Super Amoled Display | 64 MP Quad Camera | 6 Month Free Screen Replacement (Prime only) | 33W Charger Included',\n",
       "  'Redmi 11 Prime (Playful Green, 4GB RAM, 64GB Storage) | Prime Design | High Performance Helio G99 | 50 MP AI Triple Cam | 5000 mAh | 22.5W',\n",
       "  'Redmi A2+ (Aqua Blue, 4GB RAM, 64GB Storage) | Upto 7GB RAM | Octa Core Processor | Fingerprint Scanner | 2 Years Warranty [Limited time Offer]',\n",
       "  'Xiaomi Mi 11 Lite (Vinyl Black, 6GB RAM, 128GB Storage)',\n",
       "  'Redmi Note 11 (Space Black, 4GB RAM, 64GB Storage)|90Hz FHD+ AMOLED Display | Qualcomm® SnapdragonTM 680-6nm | 33W Charger Included',\n",
       "  'MI 11X Pro 5G (Lunar White, 8GB RAM, 128GB Storage) | Snapdragon 888 | 108MP Camera | 120Hz E4 AMOLED | 6 Month Free Screen Replacement for Prime',\n",
       "  'MI 10T 5G Cosmic Black, 8GB RAM, 128GB Storage - |Additional Exchange/No Cost EMI Offers',\n",
       "  'Redmi 11 Prime (Flashy Black, 6GB RAM, 128GB Storage) | Prime Design | High Performance Helio G99 | 50 MP AI Triple Cam | 5000 mAh | 22.5W',\n",
       "  'Redmi 12C (Mint Green, 4GB RAM, 64GB Storage) | High Performance Mediatek Helio G85 | Big 17cm(6.71) HD+ Display with 5000mAh(typ) Battery',\n",
       "  'Redmi 10A (Slate Grey, 4GB RAM, 64GB Storage) | 2 Ghz Octa Core Helio G25 | 5000 mAh Battery | Finger Print Sensor | Upto 5GB RAM with RAM Booster',\n",
       "  'Refurbished',\n",
       "  '(Renewed) Mi 11X 5G Cosmic Black 8GB RAM 128GB ROM | SD 870 | DisplayMate A+ rated E4 AMOLED | HDFC Cashback Upto 3500'],\n",
       " 'Price': ['₹8,799',\n",
       "  '₹12,999',\n",
       "  '₹11,999',\n",
       "  '₹12,499',\n",
       "  '₹6,299',\n",
       "  '₹16,499',\n",
       "  '₹9,999',\n",
       "  '₹8,499',\n",
       "  '₹17,990',\n",
       "  '₹13,499',\n",
       "  '₹33,499',\n",
       "  '₹24,999',\n",
       "  '₹11,999',\n",
       "  '₹8,799',\n",
       "  '₹8,999',\n",
       "  '₹21,499']}"
      ]
     },
     "execution_count": 73,
     "metadata": {},
     "output_type": "execute_result"
    }
   ],
   "source": [
    "titles = scrapper.get_result_similar(\n",
    "    'https://www.amazon.in/s?k=mi+phones&ref=nb_sb_noss_1',\n",
    "    group_by_alias=True\n",
    ")\n",
    "\n",
    "titles"
   ]
  },
  {
   "cell_type": "code",
   "execution_count": 74,
   "id": "15508919",
   "metadata": {},
   "outputs": [
    {
     "data": {
      "text/plain": [
       "['Redmi 12C (Royal Blue, 4GB RAM, 64GB Storage) | High Performance Mediatek Helio G85 | Big 17cm(6.71) HD+ Display with 5000mAh(typ) Battery',\n",
       " 'Redmi 11 Prime 5G (Chrome Silver, 4GB RAM 64GB ROM) | Prime Design | MTK Dimensity 700 | 50 MP Dual Cam | 5000mAh | 7 Band 5G',\n",
       " 'Redmi 11 Prime (Playful Green, 6BG RAM 128GB ROM) | Prime Design | High Performance Helio G99 | 50 MP AI Triple Cam | 5000 mAh | 22.5W',\n",
       " 'Amazon\\'s Choicefor \"mi phones\"',\n",
       " 'Redmi 10 Power (Power Black, 8GB RAM, 128GB Storage)',\n",
       " 'Redmi A1 (Light Green, 2GB RAM 32GB ROM) | Segment Best AI Dual Cam | 5000mAh Battery | Leather Texture Design | Android 12',\n",
       " 'Redmi Note 10S (Frost White, 6GB RAM, 128GB Storage) - Super Amoled Display | 64 MP Quad Camera | 6 Month Free Screen Replacement (Prime only) | 33W Charger Included',\n",
       " 'Redmi 11 Prime (Playful Green, 4GB RAM, 64GB Storage) | Prime Design | High Performance Helio G99 | 50 MP AI Triple Cam | 5000 mAh | 22.5W',\n",
       " 'Redmi A2+ (Aqua Blue, 4GB RAM, 64GB Storage) | Upto 7GB RAM | Octa Core Processor | Fingerprint Scanner | 2 Years Warranty [Limited time Offer]',\n",
       " 'Xiaomi Mi 11 Lite (Vinyl Black, 6GB RAM, 128GB Storage)',\n",
       " 'Redmi Note 11 (Space Black, 4GB RAM, 64GB Storage)|90Hz FHD+ AMOLED Display | Qualcomm® SnapdragonTM 680-6nm | 33W Charger Included',\n",
       " 'MI 11X Pro 5G (Lunar White, 8GB RAM, 128GB Storage) | Snapdragon 888 | 108MP Camera | 120Hz E4 AMOLED | 6 Month Free Screen Replacement for Prime',\n",
       " 'MI 10T 5G Cosmic Black, 8GB RAM, 128GB Storage - |Additional Exchange/No Cost EMI Offers',\n",
       " 'Redmi 11 Prime (Flashy Black, 6GB RAM, 128GB Storage) | Prime Design | High Performance Helio G99 | 50 MP AI Triple Cam | 5000 mAh | 22.5W',\n",
       " 'Redmi 12C (Mint Green, 4GB RAM, 64GB Storage) | High Performance Mediatek Helio G85 | Big 17cm(6.71) HD+ Display with 5000mAh(typ) Battery',\n",
       " 'Redmi 10A (Slate Grey, 4GB RAM, 64GB Storage) | 2 Ghz Octa Core Helio G25 | 5000 mAh Battery | Finger Print Sensor | Upto 5GB RAM with RAM Booster',\n",
       " 'Refurbished',\n",
       " '(Renewed) Mi 11X 5G Cosmic Black 8GB RAM 128GB ROM | SD 870 | DisplayMate A+ rated E4 AMOLED | HDFC Cashback Upto 3500']"
      ]
     },
     "execution_count": 74,
     "metadata": {},
     "output_type": "execute_result"
    }
   ],
   "source": [
    "titles['Title']"
   ]
  },
  {
   "cell_type": "code",
   "execution_count": 76,
   "id": "8dfdfcd9",
   "metadata": {},
   "outputs": [
    {
     "data": {
      "text/plain": [
       "['₹8,799',\n",
       " '₹12,999',\n",
       " '₹11,999',\n",
       " '₹12,499',\n",
       " '₹6,299',\n",
       " '₹16,499',\n",
       " '₹9,999',\n",
       " '₹8,499',\n",
       " '₹17,990',\n",
       " '₹13,499',\n",
       " '₹33,499',\n",
       " '₹24,999',\n",
       " '₹11,999',\n",
       " '₹8,799',\n",
       " '₹8,999',\n",
       " '₹21,499']"
      ]
     },
     "execution_count": 76,
     "metadata": {},
     "output_type": "execute_result"
    }
   ],
   "source": [
    "titles['Price']\n",
    "       "
   ]
  },
  {
   "cell_type": "code",
   "execution_count": null,
   "id": "ea7e5368",
   "metadata": {},
   "outputs": [],
   "source": []
  }
 ],
 "metadata": {
  "kernelspec": {
   "display_name": "Python 3 (ipykernel)",
   "language": "python",
   "name": "python3"
  },
  "language_info": {
   "codemirror_mode": {
    "name": "ipython",
    "version": 3
   },
   "file_extension": ".py",
   "mimetype": "text/x-python",
   "name": "python",
   "nbconvert_exporter": "python",
   "pygments_lexer": "ipython3",
   "version": "3.9.12"
  }
 },
 "nbformat": 4,
 "nbformat_minor": 5
}
