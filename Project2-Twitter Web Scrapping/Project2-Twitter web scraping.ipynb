{
 "cells": [
  {
   "cell_type": "code",
   "execution_count": 122,
   "id": "3d89c8c1",
   "metadata": {},
   "outputs": [],
   "source": [
    "import pandas as pd\n",
    "import time\n",
    "import os"
   ]
  },
  {
   "cell_type": "code",
   "execution_count": 123,
   "id": "d82ea419",
   "metadata": {},
   "outputs": [],
   "source": [
    "from selenium import webdriver"
   ]
  },
  {
   "cell_type": "code",
   "execution_count": 174,
   "id": "7e9fd07f",
   "metadata": {},
   "outputs": [],
   "source": [
    "web = 'https://twitter.com/'"
   ]
  },
  {
   "cell_type": "code",
   "execution_count": 175,
   "id": "5ec0ece1",
   "metadata": {},
   "outputs": [],
   "source": [
    "path = r\"C:\\Users\\97798\\Desktop\\chromedriver_win32\\chromedriver.exe\""
   ]
  },
  {
   "cell_type": "code",
   "execution_count": 176,
   "id": "55193d59",
   "metadata": {},
   "outputs": [],
   "source": [
    "# //article[@role = 'article']"
   ]
  },
  {
   "cell_type": "code",
   "execution_count": 177,
   "id": "86c9986e",
   "metadata": {},
   "outputs": [
    {
     "name": "stderr",
     "output_type": "stream",
     "text": [
      "C:\\Users\\97798\\AppData\\Local\\Temp\\ipykernel_17784\\2107036205.py:1: DeprecationWarning: executable_path has been deprecated, please pass in a Service object\n",
      "  driver = webdriver.Chrome(path)\n"
     ]
    }
   ],
   "source": [
    "driver = webdriver.Chrome(path)"
   ]
  },
  {
   "cell_type": "code",
   "execution_count": 178,
   "id": "4e676375",
   "metadata": {},
   "outputs": [],
   "source": [
    "driver.get(web)"
   ]
  },
  {
   "cell_type": "code",
   "execution_count": 179,
   "id": "6d4245de",
   "metadata": {},
   "outputs": [
    {
     "name": "stderr",
     "output_type": "stream",
     "text": [
      "C:\\Users\\97798\\AppData\\Local\\Temp\\ipykernel_17784\\3867040342.py:1: DeprecationWarning: find_element_by_xpath is deprecated. Please use find_element(by=By.XPATH, value=xpath) instead\n",
      "  login = driver.find_element_by_xpath(\"//a[@href='/login']\")\n"
     ]
    }
   ],
   "source": [
    "login = driver.find_element_by_xpath(\"//a[@href='/login']\")"
   ]
  },
  {
   "cell_type": "code",
   "execution_count": 180,
   "id": "87bbf8ba",
   "metadata": {},
   "outputs": [],
   "source": [
    "login.click()"
   ]
  },
  {
   "cell_type": "code",
   "execution_count": 185,
   "id": "ac1ecc0f",
   "metadata": {},
   "outputs": [
    {
     "name": "stderr",
     "output_type": "stream",
     "text": [
      "C:\\Users\\97798\\AppData\\Local\\Temp\\ipykernel_17784\\3216214393.py:1: DeprecationWarning: find_element_by_xpath is deprecated. Please use find_element(by=By.XPATH, value=xpath) instead\n",
      "  username = driver.find_element_by_xpath(\"//input[@name='text']\")\n"
     ]
    }
   ],
   "source": [
    "username = driver.find_element_by_xpath(\"//input[@name='text']\")\n"
   ]
  },
  {
   "cell_type": "code",
   "execution_count": 186,
   "id": "1c7a18bc",
   "metadata": {},
   "outputs": [],
   "source": [
    "username.send_keys(\"neupaneriwaj64@gmail.com\")"
   ]
  },
  {
   "cell_type": "code",
   "execution_count": 187,
   "id": "55ea47e7",
   "metadata": {},
   "outputs": [
    {
     "name": "stderr",
     "output_type": "stream",
     "text": [
      "C:\\Users\\97798\\AppData\\Local\\Temp\\ipykernel_17784\\1967623145.py:1: DeprecationWarning: find_element_by_xpath is deprecated. Please use find_element(by=By.XPATH, value=xpath) instead\n",
      "  login_button = driver.find_element_by_xpath('/html/body/div[1]/div/div/div/main/div/div/div/div[2]/div[2]/div/div[6]/div')\n"
     ]
    }
   ],
   "source": [
    "login_button = driver.find_element_by_xpath('/html/body/div[1]/div/div/div/main/div/div/div/div[2]/div[2]/div/div[6]/div')"
   ]
  },
  {
   "cell_type": "code",
   "execution_count": 188,
   "id": "d414c0db",
   "metadata": {},
   "outputs": [],
   "source": [
    "login_button.click()"
   ]
  },
  {
   "cell_type": "code",
   "execution_count": 194,
   "id": "a5571e49",
   "metadata": {},
   "outputs": [
    {
     "name": "stderr",
     "output_type": "stream",
     "text": [
      "C:\\Users\\97798\\AppData\\Local\\Temp\\ipykernel_17784\\3216214393.py:1: DeprecationWarning: find_element_by_xpath is deprecated. Please use find_element(by=By.XPATH, value=xpath) instead\n",
      "  username = driver.find_element_by_xpath(\"//input[@name='text']\")\n"
     ]
    }
   ],
   "source": [
    "username = driver.find_element_by_xpath(\"//input[@name='text']\")\n"
   ]
  },
  {
   "cell_type": "code",
   "execution_count": 195,
   "id": "2fe27e6d",
   "metadata": {},
   "outputs": [],
   "source": [
    "username.send_keys(\"@RiwajN85883\")\n"
   ]
  },
  {
   "cell_type": "code",
   "execution_count": 196,
   "id": "46328850",
   "metadata": {},
   "outputs": [
    {
     "name": "stderr",
     "output_type": "stream",
     "text": [
      "C:\\Users\\97798\\AppData\\Local\\Temp\\ipykernel_17784\\4237401185.py:1: DeprecationWarning: find_element_by_xpath is deprecated. Please use find_element(by=By.XPATH, value=xpath) instead\n",
      "  login_button = driver.find_element_by_xpath('/html/body/div[1]/div/div/div/main/div/div/div/div[2]/div[2]/div[2]/div/div/div/div/div/div')\n"
     ]
    }
   ],
   "source": [
    "login_button = driver.find_element_by_xpath('/html/body/div[1]/div/div/div/main/div/div/div/div[2]/div[2]/div[2]/div/div/div/div/div/div')"
   ]
  },
  {
   "cell_type": "code",
   "execution_count": 197,
   "id": "a3ef5ed0",
   "metadata": {},
   "outputs": [],
   "source": [
    "login_button.click()"
   ]
  },
  {
   "cell_type": "code",
   "execution_count": 202,
   "id": "dc777233",
   "metadata": {},
   "outputs": [
    {
     "name": "stderr",
     "output_type": "stream",
     "text": [
      "C:\\Users\\97798\\AppData\\Local\\Temp\\ipykernel_17784\\2967614903.py:1: DeprecationWarning: find_element_by_xpath is deprecated. Please use find_element(by=By.XPATH, value=xpath) instead\n",
      "  password = driver.find_element_by_xpath(\"//input[@name='password']\")\n"
     ]
    }
   ],
   "source": [
    "password = driver.find_element_by_xpath(\"//input[@name='password']\")"
   ]
  },
  {
   "cell_type": "code",
   "execution_count": 203,
   "id": "5ccfab16",
   "metadata": {},
   "outputs": [],
   "source": [
    "password.send_keys(\"Riwaj1234\")"
   ]
  },
  {
   "cell_type": "code",
   "execution_count": 204,
   "id": "d2b3534e",
   "metadata": {},
   "outputs": [
    {
     "name": "stderr",
     "output_type": "stream",
     "text": [
      "C:\\Users\\97798\\AppData\\Local\\Temp\\ipykernel_17784\\4219328891.py:1: DeprecationWarning: find_element_by_xpath is deprecated. Please use find_element(by=By.XPATH, value=xpath) instead\n",
      "  login_button = driver.find_element_by_xpath('//*[@id=\"react-root\"]/div/div/div/main/div/div/div/div[2]/div[2]/div[2]/div/div/div[1]/div/div/div/div')\n"
     ]
    }
   ],
   "source": [
    "login_button = driver.find_element_by_xpath('//*[@id=\"react-root\"]/div/div/div/main/div/div/div/div[2]/div[2]/div[2]/div/div/div[1]/div/div/div/div')"
   ]
  },
  {
   "cell_type": "code",
   "execution_count": 205,
   "id": "eeb22a87",
   "metadata": {},
   "outputs": [],
   "source": [
    "login_button.click()"
   ]
  },
  {
   "cell_type": "code",
   "execution_count": null,
   "id": "96e717a3",
   "metadata": {},
   "outputs": [],
   "source": []
  }
 ],
 "metadata": {
  "kernelspec": {
   "display_name": "Python 3 (ipykernel)",
   "language": "python",
   "name": "python3"
  },
  "language_info": {
   "codemirror_mode": {
    "name": "ipython",
    "version": 3
   },
   "file_extension": ".py",
   "mimetype": "text/x-python",
   "name": "python",
   "nbconvert_exporter": "python",
   "pygments_lexer": "ipython3",
   "version": "3.9.12"
  }
 },
 "nbformat": 4,
 "nbformat_minor": 5
}
