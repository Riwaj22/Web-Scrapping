{
 "cells": [
  {
   "cell_type": "code",
   "execution_count": 1,
   "id": "3d89c8c1",
   "metadata": {},
   "outputs": [],
   "source": [
    "import pandas as pd\n",
    "import time\n",
    "import os"
   ]
  },
  {
   "cell_type": "code",
   "execution_count": 2,
   "id": "d82ea419",
   "metadata": {},
   "outputs": [],
   "source": [
    "from selenium import webdriver"
   ]
  },
  {
   "cell_type": "code",
   "execution_count": 104,
   "id": "7e9fd07f",
   "metadata": {},
   "outputs": [],
   "source": [
    "web = 'https://twitter.com/'"
   ]
  },
  {
   "cell_type": "code",
   "execution_count": 105,
   "id": "5ec0ece1",
   "metadata": {},
   "outputs": [],
   "source": [
    "path = r\"C:\\Users\\97798\\Desktop\\chromedriver_win32\\chromedriver.exe\""
   ]
  },
  {
   "cell_type": "code",
   "execution_count": 5,
   "id": "55193d59",
   "metadata": {},
   "outputs": [],
   "source": [
    "# //article[@role = 'article']"
   ]
  },
  {
   "cell_type": "code",
   "execution_count": 106,
   "id": "86c9986e",
   "metadata": {},
   "outputs": [
    {
     "name": "stderr",
     "output_type": "stream",
     "text": [
      "C:\\Users\\97798\\AppData\\Local\\Temp\\ipykernel_7408\\2107036205.py:1: DeprecationWarning: executable_path has been deprecated, please pass in a Service object\n",
      "  driver = webdriver.Chrome(path)\n"
     ]
    }
   ],
   "source": [
    "driver = webdriver.Chrome(path)"
   ]
  },
  {
   "cell_type": "code",
   "execution_count": 107,
   "id": "4e676375",
   "metadata": {},
   "outputs": [],
   "source": [
    "driver.get(web)"
   ]
  },
  {
   "cell_type": "code",
   "execution_count": 108,
   "id": "6d4245de",
   "metadata": {},
   "outputs": [
    {
     "name": "stderr",
     "output_type": "stream",
     "text": [
      "C:\\Users\\97798\\AppData\\Local\\Temp\\ipykernel_7408\\3867040342.py:1: DeprecationWarning: find_element_by_xpath is deprecated. Please use find_element(by=By.XPATH, value=xpath) instead\n",
      "  login = driver.find_element_by_xpath(\"//a[@href='/login']\")\n"
     ]
    }
   ],
   "source": [
    "login = driver.find_element_by_xpath(\"//a[@href='/login']\")"
   ]
  },
  {
   "cell_type": "code",
   "execution_count": 109,
   "id": "f8f55c96",
   "metadata": {},
   "outputs": [],
   "source": [
    "login.click()"
   ]
  },
  {
   "cell_type": "code",
   "execution_count": 118,
   "id": "ac1ecc0f",
   "metadata": {},
   "outputs": [
    {
     "name": "stderr",
     "output_type": "stream",
     "text": [
      "C:\\Users\\97798\\AppData\\Local\\Temp\\ipykernel_7408\\3216214393.py:1: DeprecationWarning: find_element_by_xpath is deprecated. Please use find_element(by=By.XPATH, value=xpath) instead\n",
      "  username = driver.find_element_by_xpath(\"//input[@name='text']\")\n"
     ]
    }
   ],
   "source": [
    "username = driver.find_element_by_xpath(\"//input[@name='text']\")\n"
   ]
  },
  {
   "cell_type": "code",
   "execution_count": 119,
   "id": "1c7a18bc",
   "metadata": {},
   "outputs": [],
   "source": [
    "username.send_keys(\"@RiwajN85883\")"
   ]
  },
  {
   "cell_type": "code",
   "execution_count": 120,
   "id": "ff200118",
   "metadata": {},
   "outputs": [],
   "source": [
    "login_xpath = '//*[@id=\"react-root\"]/div/div/div/main/div/div/div/div[2]/div[2]/div/div[6]/div'"
   ]
  },
  {
   "cell_type": "code",
   "execution_count": 121,
   "id": "55ea47e7",
   "metadata": {},
   "outputs": [
    {
     "name": "stderr",
     "output_type": "stream",
     "text": [
      "C:\\Users\\97798\\AppData\\Local\\Temp\\ipykernel_7408\\2500749549.py:1: DeprecationWarning: find_element_by_xpath is deprecated. Please use find_element(by=By.XPATH, value=xpath) instead\n",
      "  login_button = driver.find_element_by_xpath(login_xpath)\n"
     ]
    }
   ],
   "source": [
    "login_button = driver.find_element_by_xpath(login_xpath)"
   ]
  },
  {
   "cell_type": "code",
   "execution_count": 122,
   "id": "d414c0db",
   "metadata": {},
   "outputs": [],
   "source": [
    "login_button.click()"
   ]
  },
  {
   "cell_type": "code",
   "execution_count": 123,
   "id": "dc777233",
   "metadata": {},
   "outputs": [
    {
     "name": "stderr",
     "output_type": "stream",
     "text": [
      "C:\\Users\\97798\\AppData\\Local\\Temp\\ipykernel_7408\\2967614903.py:1: DeprecationWarning: find_element_by_xpath is deprecated. Please use find_element(by=By.XPATH, value=xpath) instead\n",
      "  password = driver.find_element_by_xpath(\"//input[@name='password']\")\n"
     ]
    }
   ],
   "source": [
    "password = driver.find_element_by_xpath(\"//input[@name='password']\")"
   ]
  },
  {
   "cell_type": "code",
   "execution_count": 124,
   "id": "5ccfab16",
   "metadata": {},
   "outputs": [],
   "source": [
    "password.send_keys(\"Riwaj1234\")"
   ]
  },
  {
   "cell_type": "code",
   "execution_count": 127,
   "id": "48f82194",
   "metadata": {},
   "outputs": [],
   "source": [
    "login_button.click()"
   ]
  },
  {
   "cell_type": "code",
   "execution_count": 126,
   "id": "d2b3534e",
   "metadata": {},
   "outputs": [
    {
     "name": "stderr",
     "output_type": "stream",
     "text": [
      "C:\\Users\\97798\\AppData\\Local\\Temp\\ipykernel_7408\\4219328891.py:1: DeprecationWarning: find_element_by_xpath is deprecated. Please use find_element(by=By.XPATH, value=xpath) instead\n",
      "  login_button = driver.find_element_by_xpath('//*[@id=\"react-root\"]/div/div/div/main/div/div/div/div[2]/div[2]/div[2]/div/div/div[1]/div/div/div/div')\n"
     ]
    }
   ],
   "source": [
    "login_button = driver.find_element_by_xpath('//*[@id=\"react-root\"]/div/div/div/main/div/div/div/div[2]/div[2]/div[2]/div/div/div[1]/div/div/div/div')"
   ]
  },
  {
   "cell_type": "code",
   "execution_count": 131,
   "id": "96e717a3",
   "metadata": {},
   "outputs": [],
   "source": [
    "web = 'https://twitter.com/search?q=python&src=typed_query'"
   ]
  },
  {
   "cell_type": "code",
   "execution_count": 158,
   "id": "fa67fb79",
   "metadata": {},
   "outputs": [],
   "source": [
    "login_button.click()"
   ]
  },
  {
   "cell_type": "code",
   "execution_count": 119,
   "id": "5286e48f",
   "metadata": {},
   "outputs": [
    {
     "name": "stderr",
     "output_type": "stream",
     "text": [
      "C:\\Users\\97798\\AppData\\Local\\Temp\\ipykernel_19284\\2107036205.py:1: DeprecationWarning: executable_path has been deprecated, please pass in a Service object\n",
      "  driver = webdriver.Chrome(path)\n"
     ]
    }
   ],
   "source": [
    "# driver = webdriver.Chrome(path)"
   ]
  },
  {
   "cell_type": "code",
   "execution_count": 44,
   "id": "91ea15c1",
   "metadata": {},
   "outputs": [],
   "source": [
    "driver.get(web)"
   ]
  },
  {
   "cell_type": "code",
   "execution_count": 79,
   "id": "a65a92a9",
   "metadata": {},
   "outputs": [
    {
     "name": "stderr",
     "output_type": "stream",
     "text": [
      "C:\\Users\\97798\\AppData\\Local\\Temp\\ipykernel_19284\\2578709432.py:1: DeprecationWarning: find_elements_by_xpath is deprecated. Please use find_elements(by=By.XPATH, value=xpath) instead\n",
      "  tweets = driver.find_elements_by_xpath(\"//article[@role='article']\")\n"
     ]
    }
   ],
   "source": [
    "tweets = driver.find_elements_by_xpath(\"//article[@role='article']\")"
   ]
  },
  {
   "cell_type": "code",
   "execution_count": 91,
   "id": "9c7b1bd6",
   "metadata": {},
   "outputs": [
    {
     "data": {
      "text/html": [
       "<div>\n",
       "<style scoped>\n",
       "    .dataframe tbody tr th:only-of-type {\n",
       "        vertical-align: middle;\n",
       "    }\n",
       "\n",
       "    .dataframe tbody tr th {\n",
       "        vertical-align: top;\n",
       "    }\n",
       "\n",
       "    .dataframe thead th {\n",
       "        text-align: right;\n",
       "    }\n",
       "</style>\n",
       "<table border=\"1\" class=\"dataframe\">\n",
       "  <thead>\n",
       "    <tr style=\"text-align: right;\">\n",
       "      <th></th>\n",
       "      <th>user</th>\n",
       "      <th>text</th>\n",
       "    </tr>\n",
       "  </thead>\n",
       "  <tbody>\n",
       "    <tr>\n",
       "      <th>0</th>\n",
       "      <td>@itsafiz</td>\n",
       "      <td>50+ Python Projects with source code\\n\\nlink</td>\n",
       "    </tr>\n",
       "    <tr>\n",
       "      <th>1</th>\n",
       "      <td>@python_spaces</td>\n",
       "      <td>Python Basics 101: Learn Python Basics in one ...</td>\n",
       "    </tr>\n",
       "    <tr>\n",
       "      <th>2</th>\n",
       "      <td>@APrincePython</td>\n",
       "      <td>#ComicsBrokeMe It has always been this way. If...</td>\n",
       "    </tr>\n",
       "  </tbody>\n",
       "</table>\n",
       "</div>"
      ],
      "text/plain": [
       "             user                                               text\n",
       "0        @itsafiz      50+ Python Projects with source code\\n\\nlink \n",
       "1  @python_spaces  Python Basics 101: Learn Python Basics in one ...\n",
       "2  @APrincePython  #ComicsBrokeMe It has always been this way. If..."
      ]
     },
     "execution_count": 91,
     "metadata": {},
     "output_type": "execute_result"
    }
   ],
   "source": [
    "df_tweets\n"
   ]
  },
  {
   "cell_type": "code",
   "execution_count": 128,
   "id": "52b7b8d0",
   "metadata": {},
   "outputs": [],
   "source": [
    "def get_tweets(element):\n",
    "    try:\n",
    "        user = element.find_element_by_xpath(\".//span[contains(text(), '@')]\").text\n",
    "        text = element.find_element_by_xpath(\".//div[@lang]\").text\n",
    "\n",
    "        tweets_data = [user, text]\n",
    "        return tweets_data\n",
    "    except:\n",
    "        tweets_data = []\n",
    "        return tweets_data\n",
    "        \n",
    "    \n",
    "    "
   ]
  },
  {
   "cell_type": "code",
   "execution_count": 129,
   "id": "55d0a38e",
   "metadata": {},
   "outputs": [],
   "source": [
    "from selenium.webdriver.common.by import By\n",
    "from selenium.webdriver.support.ui import WebDriverWait\n",
    "from selenium.webdriver.support import expected_conditions as EC"
   ]
  },
  {
   "cell_type": "code",
   "execution_count": 130,
   "id": "9da4830f",
   "metadata": {},
   "outputs": [],
   "source": [
    "tweets = WebDriverWait(driver, 5).until(EC.presence_of_all_elements_located((By.XPATH,\"//article[@role='article']\" )))\n",
    "\n",
    "# tweets = driver.find_element_by_xpath(\"//article[@role='article']\")"
   ]
  },
  {
   "cell_type": "code",
   "execution_count": 166,
   "id": "af2590ab",
   "metadata": {},
   "outputs": [
    {
     "name": "stderr",
     "output_type": "stream",
     "text": [
      "C:\\Users\\97798\\AppData\\Local\\Temp\\ipykernel_19284\\3002871414.py:3: DeprecationWarning: find_element_by_xpath is deprecated. Please use find_element(by=By.XPATH, value=xpath) instead\n",
      "  user = element.find_element_by_xpath(\".//span[contains(text(), '@')]\").text\n",
      "C:\\Users\\97798\\AppData\\Local\\Temp\\ipykernel_19284\\3002871414.py:4: DeprecationWarning: find_element_by_xpath is deprecated. Please use find_element(by=By.XPATH, value=xpath) instead\n",
      "  text = element.find_element_by_xpath(\".//div[@lang]\").text\n"
     ]
    }
   ],
   "source": [
    "user_data = []\n",
    "text_data = []\n",
    "\n",
    "\n",
    "for tweet in tweets:\n",
    "    \n",
    "    tweet_list = get_tweets(tweet)\n",
    "    user_data.append(tweet_list[0])\n",
    "    text_data.append(tweet_list[1])\n",
    "    \n",
    "    \n",
    "    \n",
    "driver.quit()    \n",
    "    \n"
   ]
  },
  {
   "cell_type": "code",
   "execution_count": 167,
   "id": "a0ad8108",
   "metadata": {},
   "outputs": [
    {
     "data": {
      "text/html": [
       "<div>\n",
       "<style scoped>\n",
       "    .dataframe tbody tr th:only-of-type {\n",
       "        vertical-align: middle;\n",
       "    }\n",
       "\n",
       "    .dataframe tbody tr th {\n",
       "        vertical-align: top;\n",
       "    }\n",
       "\n",
       "    .dataframe thead th {\n",
       "        text-align: right;\n",
       "    }\n",
       "</style>\n",
       "<table border=\"1\" class=\"dataframe\">\n",
       "  <thead>\n",
       "    <tr style=\"text-align: right;\">\n",
       "      <th></th>\n",
       "      <th>user</th>\n",
       "      <th>text</th>\n",
       "    </tr>\n",
       "  </thead>\n",
       "  <tbody>\n",
       "    <tr>\n",
       "      <th>0</th>\n",
       "      <td>@itsafiz</td>\n",
       "      <td>50+ Python Projects with source code\\n\\nlink</td>\n",
       "    </tr>\n",
       "    <tr>\n",
       "      <th>1</th>\n",
       "      <td>@python_spaces</td>\n",
       "      <td>Python Basics 101: Learn Python Basics in one ...</td>\n",
       "    </tr>\n",
       "    <tr>\n",
       "      <th>2</th>\n",
       "      <td>@pythoncodequs</td>\n",
       "      <td>Top 10 Python Tools Every Python Developer Sho...</td>\n",
       "    </tr>\n",
       "  </tbody>\n",
       "</table>\n",
       "</div>"
      ],
      "text/plain": [
       "             user                                               text\n",
       "0        @itsafiz      50+ Python Projects with source code\\n\\nlink \n",
       "1  @python_spaces  Python Basics 101: Learn Python Basics in one ...\n",
       "2  @pythoncodequs  Top 10 Python Tools Every Python Developer Sho..."
      ]
     },
     "execution_count": 167,
     "metadata": {},
     "output_type": "execute_result"
    }
   ],
   "source": [
    "df_tweets = pd.DataFrame(\n",
    "    {\n",
    "        'user': user_data,\n",
    "        'text': text_data\n",
    "    }\n",
    ")\n",
    "\n",
    "df_tweets"
   ]
  },
  {
   "cell_type": "markdown",
   "id": "10e0ff10",
   "metadata": {},
   "source": [
    "Infinite Scrolling"
   ]
  },
  {
   "cell_type": "code",
   "execution_count": 37,
   "id": "dc31b289",
   "metadata": {},
   "outputs": [],
   "source": [
    "web = 'https://twitter.com/Naturelsmetall/status/1668218129229709316'"
   ]
  },
  {
   "cell_type": "code",
   "execution_count": 132,
   "id": "fcf8fcdf",
   "metadata": {},
   "outputs": [],
   "source": [
    "driver.get(web)\n"
   ]
  },
  {
   "cell_type": "raw",
   "id": "de75d287",
   "metadata": {},
   "source": [
    "Infinite scrolling"
   ]
  },
  {
   "cell_type": "code",
   "execution_count": 42,
   "id": "216fd029",
   "metadata": {},
   "outputs": [],
   "source": [
    "last_height = driver.execute_script(\"return document.body.scrollHeight\")\n",
    "\n",
    "while True:\n",
    "\n",
    "    driver.execute_script(\"window.scrollTo(0, document.body.scrollHeight);\")\n",
    "    time.sleep(5)\n",
    "    new_height = driver.execute_script(\"return document.body.scrollHeight\")\n",
    "    if new_height == last_height:\n",
    "        break\n",
    "    else:   \n",
    "        last_height = new_height\n",
    "    "
   ]
  },
  {
   "cell_type": "code",
   "execution_count": 39,
   "id": "e7b0529a",
   "metadata": {},
   "outputs": [],
   "source": [
    "import time"
   ]
  },
  {
   "cell_type": "markdown",
   "id": "e4da6816",
   "metadata": {},
   "source": [
    "Scrapping the website with Infinite Scrolling"
   ]
  },
  {
   "cell_type": "code",
   "execution_count": 96,
   "id": "b11858f0",
   "metadata": {},
   "outputs": [],
   "source": [
    "tweets_ids = set()"
   ]
  },
  {
   "cell_type": "code",
   "execution_count": 97,
   "id": "e2f8a4fa",
   "metadata": {},
   "outputs": [],
   "source": [
    "tweets = WebDriverWait(driver, 5).until(EC.presence_of_all_elements_located((By.XPATH,\"//article[@role='article']\" )))\n"
   ]
  },
  {
   "cell_type": "code",
   "execution_count": 98,
   "id": "28538806",
   "metadata": {},
   "outputs": [],
   "source": [
    "user_data = []\n",
    "text_data = []\n"
   ]
  },
  {
   "cell_type": "code",
   "execution_count": 141,
   "id": "58ee125c",
   "metadata": {},
   "outputs": [
    {
     "name": "stderr",
     "output_type": "stream",
     "text": [
      "C:\\Users\\97798\\AppData\\Local\\Temp\\ipykernel_7408\\3002871414.py:3: DeprecationWarning: find_element_by_xpath is deprecated. Please use find_element(by=By.XPATH, value=xpath) instead\n",
      "  user = element.find_element_by_xpath(\".//span[contains(text(), '@')]\").text\n",
      "C:\\Users\\97798\\AppData\\Local\\Temp\\ipykernel_7408\\3002871414.py:4: DeprecationWarning: find_element_by_xpath is deprecated. Please use find_element(by=By.XPATH, value=xpath) instead\n",
      "  text = element.find_element_by_xpath(\".//div[@lang]\").text\n"
     ]
    }
   ],
   "source": [
    "scrolling = True\n",
    "\n",
    "while scrolling:  \n",
    "    tweets = WebDriverWait(driver, 5).until(EC.presence_of_all_elements_located((By.XPATH,\"//article[@role='article']\" )))   \n",
    "    for tweet in tweets:\n",
    "        tweet_list = get_tweets(tweet)\n",
    "        tweet_id = ''.join(tweet_list) \n",
    "        if tweet_id not in tweets_ids:\n",
    "            tweets_ids.add(tweet_id)\n",
    "            user_data.append(tweet_list[0])\n",
    "            text_data.append(tweet_list[1])\n",
    "\n",
    "    last_height = driver.execute_script(\"return document.body.scrollHeight\")\n",
    "\n",
    "    while True:\n",
    "        driver.execute_script(\"window.scrollTo(0, document.body.scrollHeight);\")\n",
    "        time.sleep(2)\n",
    "        new_height = driver.execute_script(\"return document.body.scrollHeight\")\n",
    "        if new_height == last_height:\n",
    "            scrolling = False\n",
    "            break\n",
    "        else:   \n",
    "            last_height = new_height\n",
    "\n",
    "\n",
    "        \n",
    "\n",
    "\n",
    "df_tweets2 = pd.DataFrame(\n",
    "    {\n",
    "        'user':user_data,\n",
    "        'text': text_data\n",
    "    }\n",
    ")\n",
    "\n",
    "\n",
    "    "
   ]
  },
  {
   "cell_type": "code",
   "execution_count": 142,
   "id": "6eec93bc",
   "metadata": {},
   "outputs": [
    {
     "data": {
      "text/html": [
       "<div>\n",
       "<style scoped>\n",
       "    .dataframe tbody tr th:only-of-type {\n",
       "        vertical-align: middle;\n",
       "    }\n",
       "\n",
       "    .dataframe tbody tr th {\n",
       "        vertical-align: top;\n",
       "    }\n",
       "\n",
       "    .dataframe thead th {\n",
       "        text-align: right;\n",
       "    }\n",
       "</style>\n",
       "<table border=\"1\" class=\"dataframe\">\n",
       "  <thead>\n",
       "    <tr style=\"text-align: right;\">\n",
       "      <th></th>\n",
       "      <th>user</th>\n",
       "      <th>text</th>\n",
       "    </tr>\n",
       "  </thead>\n",
       "  <tbody>\n",
       "    <tr>\n",
       "      <th>0</th>\n",
       "      <td>@itsafiz</td>\n",
       "      <td>50+ Python Projects with source code\\n\\nlink</td>\n",
       "    </tr>\n",
       "    <tr>\n",
       "      <th>1</th>\n",
       "      <td>@RobertIrwin</td>\n",
       "      <td>Déjà vu. Dad and me getting bitten by the same...</td>\n",
       "    </tr>\n",
       "    <tr>\n",
       "      <th>2</th>\n",
       "      <td>@python_spaces</td>\n",
       "      <td>Python Basics 101: Learn Python Basics in one ...</td>\n",
       "    </tr>\n",
       "    <tr>\n",
       "      <th>3</th>\n",
       "      <td>@APrincePython</td>\n",
       "      <td>#ComicsBrokeMe It has always been this way. If...</td>\n",
       "    </tr>\n",
       "    <tr>\n",
       "      <th>4</th>\n",
       "      <td>@pythoncodequs</td>\n",
       "      <td>Top 10 Python Tools Every Python Developer Sho...</td>\n",
       "    </tr>\n",
       "    <tr>\n",
       "      <th>5</th>\n",
       "      <td>@ronawang</td>\n",
       "      <td>React for Python now exists  https://github.co...</td>\n",
       "    </tr>\n",
       "    <tr>\n",
       "      <th>6</th>\n",
       "      <td>@tut_ml</td>\n",
       "      <td>Best Resources to Learn AI-https://mltut.com/b...</td>\n",
       "    </tr>\n",
       "    <tr>\n",
       "      <th>7</th>\n",
       "      <td>@sharyph_</td>\n",
       "      <td>Learn Data Analytics for Free:\\n\\nSQL → http:/...</td>\n",
       "    </tr>\n",
       "    <tr>\n",
       "      <th>8</th>\n",
       "      <td>@timeline_code</td>\n",
       "      <td>Built a ‘Metal detector’ - Treasure hunting ga...</td>\n",
       "    </tr>\n",
       "    <tr>\n",
       "      <th>9</th>\n",
       "      <td>@APrincePython</td>\n",
       "      <td>My Power Girl Superman Family fancomic was war...</td>\n",
       "    </tr>\n",
       "  </tbody>\n",
       "</table>\n",
       "</div>"
      ],
      "text/plain": [
       "             user                                               text\n",
       "0        @itsafiz      50+ Python Projects with source code\\n\\nlink \n",
       "1    @RobertIrwin  Déjà vu. Dad and me getting bitten by the same...\n",
       "2  @python_spaces  Python Basics 101: Learn Python Basics in one ...\n",
       "3  @APrincePython  #ComicsBrokeMe It has always been this way. If...\n",
       "4  @pythoncodequs  Top 10 Python Tools Every Python Developer Sho...\n",
       "5       @ronawang  React for Python now exists  https://github.co...\n",
       "6         @tut_ml  Best Resources to Learn AI-https://mltut.com/b...\n",
       "7       @sharyph_  Learn Data Analytics for Free:\\n\\nSQL → http:/...\n",
       "8  @timeline_code  Built a ‘Metal detector’ - Treasure hunting ga...\n",
       "9  @APrincePython  My Power Girl Superman Family fancomic was war..."
      ]
     },
     "execution_count": 142,
     "metadata": {},
     "output_type": "execute_result"
    }
   ],
   "source": [
    "df_tweets2"
   ]
  },
  {
   "cell_type": "code",
   "execution_count": 143,
   "id": "ffe479cf",
   "metadata": {},
   "outputs": [],
   "source": [
    "df_tweets2.to_csv('tweets_infinite_scrolling.csv', index=False)"
   ]
  },
  {
   "cell_type": "code",
   "execution_count": 144,
   "id": "303c35a4",
   "metadata": {},
   "outputs": [
    {
     "data": {
      "text/html": [
       "<div>\n",
       "<style scoped>\n",
       "    .dataframe tbody tr th:only-of-type {\n",
       "        vertical-align: middle;\n",
       "    }\n",
       "\n",
       "    .dataframe tbody tr th {\n",
       "        vertical-align: top;\n",
       "    }\n",
       "\n",
       "    .dataframe thead th {\n",
       "        text-align: right;\n",
       "    }\n",
       "</style>\n",
       "<table border=\"1\" class=\"dataframe\">\n",
       "  <thead>\n",
       "    <tr style=\"text-align: right;\">\n",
       "      <th></th>\n",
       "      <th>user</th>\n",
       "      <th>text</th>\n",
       "    </tr>\n",
       "  </thead>\n",
       "  <tbody>\n",
       "    <tr>\n",
       "      <th>0</th>\n",
       "      <td>@itsafiz</td>\n",
       "      <td>50+ Python Projects with source code\\n\\nlink</td>\n",
       "    </tr>\n",
       "    <tr>\n",
       "      <th>1</th>\n",
       "      <td>@RobertIrwin</td>\n",
       "      <td>Déjà vu. Dad and me getting bitten by the same...</td>\n",
       "    </tr>\n",
       "    <tr>\n",
       "      <th>2</th>\n",
       "      <td>@python_spaces</td>\n",
       "      <td>Python Basics 101: Learn Python Basics in one ...</td>\n",
       "    </tr>\n",
       "    <tr>\n",
       "      <th>3</th>\n",
       "      <td>@APrincePython</td>\n",
       "      <td>#ComicsBrokeMe It has always been this way. If...</td>\n",
       "    </tr>\n",
       "    <tr>\n",
       "      <th>4</th>\n",
       "      <td>@pythoncodequs</td>\n",
       "      <td>Top 10 Python Tools Every Python Developer Sho...</td>\n",
       "    </tr>\n",
       "    <tr>\n",
       "      <th>5</th>\n",
       "      <td>@ronawang</td>\n",
       "      <td>React for Python now exists  https://github.co...</td>\n",
       "    </tr>\n",
       "    <tr>\n",
       "      <th>6</th>\n",
       "      <td>@tut_ml</td>\n",
       "      <td>Best Resources to Learn AI-https://mltut.com/b...</td>\n",
       "    </tr>\n",
       "    <tr>\n",
       "      <th>7</th>\n",
       "      <td>@sharyph_</td>\n",
       "      <td>Learn Data Analytics for Free:\\n\\nSQL → http:/...</td>\n",
       "    </tr>\n",
       "    <tr>\n",
       "      <th>8</th>\n",
       "      <td>@timeline_code</td>\n",
       "      <td>Built a ‘Metal detector’ - Treasure hunting ga...</td>\n",
       "    </tr>\n",
       "    <tr>\n",
       "      <th>9</th>\n",
       "      <td>@APrincePython</td>\n",
       "      <td>My Power Girl Superman Family fancomic was war...</td>\n",
       "    </tr>\n",
       "  </tbody>\n",
       "</table>\n",
       "</div>"
      ],
      "text/plain": [
       "             user                                               text\n",
       "0        @itsafiz      50+ Python Projects with source code\\n\\nlink \n",
       "1    @RobertIrwin  Déjà vu. Dad and me getting bitten by the same...\n",
       "2  @python_spaces  Python Basics 101: Learn Python Basics in one ...\n",
       "3  @APrincePython  #ComicsBrokeMe It has always been this way. If...\n",
       "4  @pythoncodequs  Top 10 Python Tools Every Python Developer Sho...\n",
       "5       @ronawang  React for Python now exists  https://github.co...\n",
       "6         @tut_ml  Best Resources to Learn AI-https://mltut.com/b...\n",
       "7       @sharyph_  Learn Data Analytics for Free:\\n\\nSQL → http:/...\n",
       "8  @timeline_code  Built a ‘Metal detector’ - Treasure hunting ga...\n",
       "9  @APrincePython  My Power Girl Superman Family fancomic was war..."
      ]
     },
     "execution_count": 144,
     "metadata": {},
     "output_type": "execute_result"
    }
   ],
   "source": [
    "df_tweets2"
   ]
  },
  {
   "cell_type": "code",
   "execution_count": null,
   "id": "fbb3ef34",
   "metadata": {},
   "outputs": [],
   "source": []
  }
 ],
 "metadata": {
  "kernelspec": {
   "display_name": "Python 3 (ipykernel)",
   "language": "python",
   "name": "python3"
  },
  "language_info": {
   "codemirror_mode": {
    "name": "ipython",
    "version": 3
   },
   "file_extension": ".py",
   "mimetype": "text/x-python",
   "name": "python",
   "nbconvert_exporter": "python",
   "pygments_lexer": "ipython3",
   "version": "3.9.12"
  }
 },
 "nbformat": 4,
 "nbformat_minor": 5
}
