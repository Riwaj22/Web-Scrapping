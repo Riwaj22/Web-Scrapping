{
 "cells": [
  {
   "cell_type": "code",
   "execution_count": 1,
   "id": "b1bc9492",
   "metadata": {},
   "outputs": [
    {
     "name": "stderr",
     "output_type": "stream",
     "text": [
      "WARNING: Ignoring invalid distribution -atplotlib (c:\\users\\97798\\anaconda3\\lib\\site-packages)\n",
      "WARNING: Ignoring invalid distribution -atplotlib (c:\\users\\97798\\anaconda3\\lib\\site-packages)\n",
      "ERROR: Could not find a version that satisfies the requirement autoscrapper (from versions: none)\n",
      "ERROR: No matching distribution found for autoscrapper\n",
      "WARNING: Ignoring invalid distribution -atplotlib (c:\\users\\97798\\anaconda3\\lib\\site-packages)\n",
      "WARNING: Ignoring invalid distribution -atplotlib (c:\\users\\97798\\anaconda3\\lib\\site-packages)\n",
      "WARNING: Ignoring invalid distribution -atplotlib (c:\\users\\97798\\anaconda3\\lib\\site-packages)\n"
     ]
    }
   ],
   "source": [
    "!pip install autoscrapper\n"
   ]
  },
  {
   "cell_type": "code",
   "execution_count": 2,
   "id": "ef1620e3",
   "metadata": {},
   "outputs": [
    {
     "name": "stdout",
     "output_type": "stream",
     "text": [
      "Collecting git+https://github.com/alirezamika/autoscraper.git\n",
      "  Cloning https://github.com/alirezamika/autoscraper.git to c:\\users\\97798\\appdata\\local\\temp\\pip-req-build-mx7089k6\n",
      "  Resolved https://github.com/alirezamika/autoscraper.git to commit 26bc6bf78a14753f5dca6856999d96d5374dc64d\n",
      "Requirement already satisfied: requests in c:\\users\\97798\\anaconda3\\lib\\site-packages (from autoscraper==1.1.14) (2.27.1)\n",
      "Requirement already satisfied: bs4 in c:\\users\\97798\\anaconda3\\lib\\site-packages (from autoscraper==1.1.14) (0.0.1)\n",
      "Requirement already satisfied: lxml in c:\\users\\97798\\anaconda3\\lib\\site-packages (from autoscraper==1.1.14) (4.8.0)\n",
      "Requirement already satisfied: beautifulsoup4 in c:\\users\\97798\\anaconda3\\lib\\site-packages (from bs4->autoscraper==1.1.14) (4.11.1)\n",
      "Requirement already satisfied: soupsieve>1.2 in c:\\users\\97798\\anaconda3\\lib\\site-packages (from beautifulsoup4->bs4->autoscraper==1.1.14) (2.3.1)\n",
      "Requirement already satisfied: urllib3<1.27,>=1.21.1 in c:\\users\\97798\\anaconda3\\lib\\site-packages (from requests->autoscraper==1.1.14) (1.26.16)\n",
      "Requirement already satisfied: idna<4,>=2.5 in c:\\users\\97798\\anaconda3\\lib\\site-packages (from requests->autoscraper==1.1.14) (3.4)\n",
      "Requirement already satisfied: charset-normalizer~=2.0.0 in c:\\users\\97798\\anaconda3\\lib\\site-packages (from requests->autoscraper==1.1.14) (2.0.4)\n",
      "Requirement already satisfied: certifi>=2017.4.17 in c:\\users\\97798\\anaconda3\\lib\\site-packages (from requests->autoscraper==1.1.14) (2023.5.7)\n",
      "Building wheels for collected packages: autoscraper\n",
      "  Building wheel for autoscraper (setup.py): started\n",
      "  Building wheel for autoscraper (setup.py): finished with status 'done'\n",
      "  Created wheel for autoscraper: filename=autoscraper-1.1.14-py3-none-any.whl size=10197 sha256=ae4e91321bd480df2ce305e8e92281a5e47e96322591fc57fd2b003c3519f166\n",
      "  Stored in directory: C:\\Users\\97798\\AppData\\Local\\Temp\\pip-ephem-wheel-cache-xrbjuxv_\\wheels\\54\\4e\\cf\\b86f6f2f7394e45d46ac1243e608b6187139f4851751b3ff23\n",
      "Successfully built autoscraper\n",
      "Installing collected packages: autoscraper\n",
      "Successfully installed autoscraper-1.1.14\n"
     ]
    },
    {
     "name": "stderr",
     "output_type": "stream",
     "text": [
      "WARNING: Ignoring invalid distribution -atplotlib (c:\\users\\97798\\anaconda3\\lib\\site-packages)\n",
      "WARNING: Ignoring invalid distribution -atplotlib (c:\\users\\97798\\anaconda3\\lib\\site-packages)\n",
      "  Running command git clone -q https://github.com/alirezamika/autoscraper.git 'C:\\Users\\97798\\AppData\\Local\\Temp\\pip-req-build-mx7089k6'\n",
      "WARNING: Ignoring invalid distribution -atplotlib (c:\\users\\97798\\anaconda3\\lib\\site-packages)\n",
      "WARNING: Ignoring invalid distribution -atplotlib (c:\\users\\97798\\anaconda3\\lib\\site-packages)\n",
      "WARNING: Ignoring invalid distribution -atplotlib (c:\\users\\97798\\anaconda3\\lib\\site-packages)\n",
      "WARNING: Ignoring invalid distribution -atplotlib (c:\\users\\97798\\anaconda3\\lib\\site-packages)\n",
      "WARNING: Ignoring invalid distribution -atplotlib (c:\\users\\97798\\anaconda3\\lib\\site-packages)\n"
     ]
    }
   ],
   "source": [
    "!pip install git+https://github.com/alirezamika/autoscraper.git\n"
   ]
  },
  {
   "cell_type": "code",
   "execution_count": 3,
   "id": "910416ce",
   "metadata": {},
   "outputs": [],
   "source": [
    "from autoscraper import AutoScraper"
   ]
  },
  {
   "cell_type": "code",
   "execution_count": 6,
   "id": "464e2ad6",
   "metadata": {},
   "outputs": [
    {
     "name": "stdout",
     "output_type": "stream",
     "text": [
      "['Riwaj22', 'Web-Scrapping', 'Exploratory-Data-Analysis', 'SQL', 'matplotlib', 'Feature-Engineering', 'DBMS-BUS-RESERVATION-MANAGEMENT-SYSTEM', 'Python-Data-Science', 'ComputerVision', 'Accenture-Data-Analytics-Virtual-Experience', 'Pandas', 'Prachalit_Lipi_Character_Recognition', 'Python-projects-beginner-level', 'Numpy', 'Communication-system', 'digital-signal-analysis-and-processing', 'sql_practice_queries', 'Image-Picker-App', 'prachalit-lipi-fastapi', 'AIRLINES-RESERVATION-SYSTEM-', 'C-PATIENT-MANAGEMENT-SYSTEM', 'OpenCV', 'OpenGl-SnakeGame', 'IOT-Based-Covid-19-Patient-Monitoring-System', 'Prachalit-script-recognition-using-CNN', 'machine_learning', 'Forked from shakyasimha/prachalit-lipi-fastapi', 'Forked from MayankkYogi/OpenCV', 'Forked from sobit-nep/Prachalit-Script-Character-Recognition-using-Deep-CNN', 'Forked from omairaasim/machine_learning']\n"
     ]
    }
   ],
   "source": [
    "url = 'https://github.com/Riwaj22?tab=repositories'\n",
    "\n",
    "wanted_list = ['Web-Scrapping', 'Forked from omairaasim/machine_learning']\n",
    "\n",
    "scrapper = AutoScraper()\n",
    "\n",
    "result = scrapper.build(url, wanted_list)\n",
    "\n",
    "print(result)\n"
   ]
  },
  {
   "cell_type": "code",
   "execution_count": 7,
   "id": "7e1a4e57",
   "metadata": {},
   "outputs": [
    {
     "data": {
      "text/plain": [
       "{'rule_zirg': ['Riwaj22',\n",
       "  'Web-Scrapping',\n",
       "  'Exploratory-Data-Analysis',\n",
       "  'SQL',\n",
       "  'matplotlib',\n",
       "  'Feature-Engineering',\n",
       "  'DBMS-BUS-RESERVATION-MANAGEMENT-SYSTEM',\n",
       "  'Python-Data-Science',\n",
       "  'ComputerVision',\n",
       "  'Accenture-Data-Analytics-Virtual-Experience',\n",
       "  'Pandas',\n",
       "  'Prachalit_Lipi_Character_Recognition',\n",
       "  'Python-projects-beginner-level',\n",
       "  'Numpy',\n",
       "  'Communication-system',\n",
       "  'digital-signal-analysis-and-processing',\n",
       "  'sql_practice_queries',\n",
       "  'Image-Picker-App',\n",
       "  'prachalit-lipi-fastapi',\n",
       "  'AIRLINES-RESERVATION-SYSTEM-',\n",
       "  'C-PATIENT-MANAGEMENT-SYSTEM',\n",
       "  'OpenCV',\n",
       "  'OpenGl-SnakeGame',\n",
       "  'IOT-Based-Covid-19-Patient-Monitoring-System',\n",
       "  'Prachalit-script-recognition-using-CNN',\n",
       "  'machine_learning'],\n",
       " 'rule_55oj': ['Forked from shakyasimha/prachalit-lipi-fastapi',\n",
       "  'Forked from MayankkYogi/OpenCV',\n",
       "  'Forked from sobit-nep/Prachalit-Script-Character-Recognition-using-Deep-CNN',\n",
       "  'Forked from omairaasim/machine_learning']}"
      ]
     },
     "execution_count": 7,
     "metadata": {},
     "output_type": "execute_result"
    }
   ],
   "source": [
    "scrapper.get_result_similar(url, grouped=True)"
   ]
  },
  {
   "cell_type": "code",
   "execution_count": 9,
   "id": "fcef9e78",
   "metadata": {},
   "outputs": [],
   "source": [
    "scrapper.set_rule_aliases({'rule_zirg':'Repisotory Name',\n",
    "                          'rule_55oj':'Forked From'\n",
    "                          }\n",
    "                         )\n",
    "\n",
    "scrapper.keep_rules(['rule_zirg','rule_55oj'])\n",
    "\n",
    "scrapper.save('github repository search')"
   ]
  },
  {
   "cell_type": "code",
   "execution_count": 17,
   "id": "6189822f",
   "metadata": {},
   "outputs": [],
   "source": [
    "scrapper.load('github repository search')\n"
   ]
  },
  {
   "cell_type": "code",
   "execution_count": 22,
   "id": "69f41fed",
   "metadata": {},
   "outputs": [],
   "source": [
    "result = scrapper.get_result_similar(\"https://github.com/krishnaik06?tab=repositories\",\n",
    "                                    group_by_alias=True\n",
    "                                   )"
   ]
  },
  {
   "cell_type": "code",
   "execution_count": 23,
   "id": "fb4b0814",
   "metadata": {},
   "outputs": [
    {
     "data": {
      "text/plain": [
       "{'Repisotory Name': ['Tutorials-Python-In-Hindi',\n",
       "  'mlproject',\n",
       "  'Prompt-Engineering-LangChain',\n",
       "  'Langchain-Tutorials',\n",
       "  'Chicken-Disease-Classification-Projects',\n",
       "  'Text-Summarization-NLP-Project',\n",
       "  'End-To-End-NLP-Project-Text-Summarization',\n",
       "  'Deployment-flask',\n",
       "  'DiamondPricePrediction2',\n",
       "  'DiamondPricePrediction1',\n",
       "  'Flask-Web-Framework',\n",
       "  'FSDSRegression',\n",
       "  'Cotton-Disease-Prediction-Deep-Learning',\n",
       "  'Student-Performance-Azure-deployment',\n",
       "  'Flight-Price-Prediction1',\n",
       "  'AWS-CI-CD-Projects',\n",
       "  'ML-Project-Azure',\n",
       "  'Diabetes-Deployment-With-BeanStalk',\n",
       "  'Studentmlprojectregression',\n",
       "  'Students-MLProjectsRegression',\n",
       "  'Docker-For-Data-Science',\n",
       "  'Diabetes-Prediction-With-deployment',\n",
       "  'Visualize-Multiple-Linear-Regression',\n",
       "  'algearianforestfire',\n",
       "  'testflask',\n",
       "  'testforestfires',\n",
       "  'forestfire',\n",
       "  'beanstalk',\n",
       "  '6-Months-Data-Science-Roadmap-',\n",
       "  'playstore-Dataset'],\n",
       " 'Forked From': ['Forked from entbappy/ML-Project-Azure']}"
      ]
     },
     "execution_count": 23,
     "metadata": {},
     "output_type": "execute_result"
    }
   ],
   "source": [
    "result"
   ]
  },
  {
   "cell_type": "code",
   "execution_count": null,
   "id": "18f34084",
   "metadata": {},
   "outputs": [],
   "source": []
  }
 ],
 "metadata": {
  "kernelspec": {
   "display_name": "Python 3 (ipykernel)",
   "language": "python",
   "name": "python3"
  },
  "language_info": {
   "codemirror_mode": {
    "name": "ipython",
    "version": 3
   },
   "file_extension": ".py",
   "mimetype": "text/x-python",
   "name": "python",
   "nbconvert_exporter": "python",
   "pygments_lexer": "ipython3",
   "version": "3.9.12"
  }
 },
 "nbformat": 4,
 "nbformat_minor": 5
}
